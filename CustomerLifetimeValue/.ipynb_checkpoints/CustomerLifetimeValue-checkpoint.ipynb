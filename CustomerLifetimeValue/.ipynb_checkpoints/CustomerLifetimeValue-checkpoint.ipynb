{
 "cells": [
  {
   "cell_type": "code",
   "execution_count": 1,
   "metadata": {},
   "outputs": [],
   "source": [
    "%matplotlib inline"
   ]
  },
  {
   "cell_type": "code",
   "execution_count": 2,
   "metadata": {},
   "outputs": [],
   "source": [
    "import matplotlib.pyplot as plt\n",
    "import pandas as pd\n",
    "import numpy as np"
   ]
  },
  {
   "cell_type": "markdown",
   "metadata": {},
   "source": [
    "### 1. Load Data"
   ]
  },
  {
   "cell_type": "code",
   "execution_count": 4,
   "metadata": {},
   "outputs": [],
   "source": [
    "df = pd.read_excel('data/Online Retail.xlsx', sheet_name='Online Retail')"
   ]
  },
  {
   "cell_type": "code",
   "execution_count": 5,
   "metadata": {},
   "outputs": [
    {
     "data": {
      "text/plain": [
       "(541909, 8)"
      ]
     },
     "execution_count": 5,
     "metadata": {},
     "output_type": "execute_result"
    }
   ],
   "source": [
    "df.shape"
   ]
  },
  {
   "cell_type": "code",
   "execution_count": 6,
   "metadata": {},
   "outputs": [
    {
     "data": {
      "text/html": [
       "<div>\n",
       "<style scoped>\n",
       "    .dataframe tbody tr th:only-of-type {\n",
       "        vertical-align: middle;\n",
       "    }\n",
       "\n",
       "    .dataframe tbody tr th {\n",
       "        vertical-align: top;\n",
       "    }\n",
       "\n",
       "    .dataframe thead th {\n",
       "        text-align: right;\n",
       "    }\n",
       "</style>\n",
       "<table border=\"1\" class=\"dataframe\">\n",
       "  <thead>\n",
       "    <tr style=\"text-align: right;\">\n",
       "      <th></th>\n",
       "      <th>InvoiceNo</th>\n",
       "      <th>StockCode</th>\n",
       "      <th>Description</th>\n",
       "      <th>Quantity</th>\n",
       "      <th>InvoiceDate</th>\n",
       "      <th>UnitPrice</th>\n",
       "      <th>CustomerID</th>\n",
       "      <th>Country</th>\n",
       "    </tr>\n",
       "  </thead>\n",
       "  <tbody>\n",
       "    <tr>\n",
       "      <th>0</th>\n",
       "      <td>536365</td>\n",
       "      <td>85123A</td>\n",
       "      <td>WHITE HANGING HEART T-LIGHT HOLDER</td>\n",
       "      <td>6</td>\n",
       "      <td>2010-12-01 08:26:00</td>\n",
       "      <td>2.55</td>\n",
       "      <td>17850.0</td>\n",
       "      <td>United Kingdom</td>\n",
       "    </tr>\n",
       "    <tr>\n",
       "      <th>1</th>\n",
       "      <td>536365</td>\n",
       "      <td>71053</td>\n",
       "      <td>WHITE METAL LANTERN</td>\n",
       "      <td>6</td>\n",
       "      <td>2010-12-01 08:26:00</td>\n",
       "      <td>3.39</td>\n",
       "      <td>17850.0</td>\n",
       "      <td>United Kingdom</td>\n",
       "    </tr>\n",
       "    <tr>\n",
       "      <th>2</th>\n",
       "      <td>536365</td>\n",
       "      <td>84406B</td>\n",
       "      <td>CREAM CUPID HEARTS COAT HANGER</td>\n",
       "      <td>8</td>\n",
       "      <td>2010-12-01 08:26:00</td>\n",
       "      <td>2.75</td>\n",
       "      <td>17850.0</td>\n",
       "      <td>United Kingdom</td>\n",
       "    </tr>\n",
       "    <tr>\n",
       "      <th>3</th>\n",
       "      <td>536365</td>\n",
       "      <td>84029G</td>\n",
       "      <td>KNITTED UNION FLAG HOT WATER BOTTLE</td>\n",
       "      <td>6</td>\n",
       "      <td>2010-12-01 08:26:00</td>\n",
       "      <td>3.39</td>\n",
       "      <td>17850.0</td>\n",
       "      <td>United Kingdom</td>\n",
       "    </tr>\n",
       "    <tr>\n",
       "      <th>4</th>\n",
       "      <td>536365</td>\n",
       "      <td>84029E</td>\n",
       "      <td>RED WOOLLY HOTTIE WHITE HEART.</td>\n",
       "      <td>6</td>\n",
       "      <td>2010-12-01 08:26:00</td>\n",
       "      <td>3.39</td>\n",
       "      <td>17850.0</td>\n",
       "      <td>United Kingdom</td>\n",
       "    </tr>\n",
       "  </tbody>\n",
       "</table>\n",
       "</div>"
      ],
      "text/plain": [
       "  InvoiceNo StockCode                          Description  Quantity  \\\n",
       "0    536365    85123A   WHITE HANGING HEART T-LIGHT HOLDER         6   \n",
       "1    536365     71053                  WHITE METAL LANTERN         6   \n",
       "2    536365    84406B       CREAM CUPID HEARTS COAT HANGER         8   \n",
       "3    536365    84029G  KNITTED UNION FLAG HOT WATER BOTTLE         6   \n",
       "4    536365    84029E       RED WOOLLY HOTTIE WHITE HEART.         6   \n",
       "\n",
       "          InvoiceDate  UnitPrice  CustomerID         Country  \n",
       "0 2010-12-01 08:26:00       2.55     17850.0  United Kingdom  \n",
       "1 2010-12-01 08:26:00       3.39     17850.0  United Kingdom  \n",
       "2 2010-12-01 08:26:00       2.75     17850.0  United Kingdom  \n",
       "3 2010-12-01 08:26:00       3.39     17850.0  United Kingdom  \n",
       "4 2010-12-01 08:26:00       3.39     17850.0  United Kingdom  "
      ]
     },
     "execution_count": 6,
     "metadata": {},
     "output_type": "execute_result"
    }
   ],
   "source": [
    "df.head()"
   ]
  },
  {
   "cell_type": "markdown",
   "metadata": {},
   "source": [
    "### 2. Data Clean-Up"
   ]
  },
  {
   "cell_type": "markdown",
   "metadata": {},
   "source": [
    "#### - Negative Quantity"
   ]
  },
  {
   "cell_type": "code",
   "execution_count": 7,
   "metadata": {},
   "outputs": [
    {
     "data": {
      "text/plain": [
       "(10624, 8)"
      ]
     },
     "execution_count": 7,
     "metadata": {},
     "output_type": "execute_result"
    }
   ],
   "source": [
    "df.loc[df['Quantity'] <= 0].shape"
   ]
  },
  {
   "cell_type": "code",
   "execution_count": 8,
   "metadata": {},
   "outputs": [
    {
     "data": {
      "text/plain": [
       "(541909, 8)"
      ]
     },
     "execution_count": 8,
     "metadata": {},
     "output_type": "execute_result"
    }
   ],
   "source": [
    "df.shape"
   ]
  },
  {
   "cell_type": "code",
   "execution_count": 9,
   "metadata": {},
   "outputs": [],
   "source": [
    "df = df.loc[df['Quantity'] > 0]"
   ]
  },
  {
   "cell_type": "code",
   "execution_count": 10,
   "metadata": {},
   "outputs": [
    {
     "data": {
      "text/plain": [
       "(531285, 8)"
      ]
     },
     "execution_count": 10,
     "metadata": {},
     "output_type": "execute_result"
    }
   ],
   "source": [
    "df.shape"
   ]
  },
  {
   "cell_type": "markdown",
   "metadata": {},
   "source": [
    "#### - Missing CustomerID"
   ]
  },
  {
   "cell_type": "code",
   "execution_count": 11,
   "metadata": {},
   "outputs": [
    {
     "data": {
      "text/plain": [
       "133361"
      ]
     },
     "execution_count": 11,
     "metadata": {},
     "output_type": "execute_result"
    }
   ],
   "source": [
    "pd.isnull(df['CustomerID']).sum()"
   ]
  },
  {
   "cell_type": "code",
   "execution_count": 12,
   "metadata": {},
   "outputs": [
    {
     "data": {
      "text/plain": [
       "(531285, 8)"
      ]
     },
     "execution_count": 12,
     "metadata": {},
     "output_type": "execute_result"
    }
   ],
   "source": [
    "df.shape"
   ]
  },
  {
   "cell_type": "code",
   "execution_count": 13,
   "metadata": {},
   "outputs": [],
   "source": [
    "df = df[pd.notnull(df['CustomerID'])]"
   ]
  },
  {
   "cell_type": "code",
   "execution_count": 14,
   "metadata": {},
   "outputs": [
    {
     "data": {
      "text/plain": [
       "(397924, 8)"
      ]
     },
     "execution_count": 14,
     "metadata": {},
     "output_type": "execute_result"
    }
   ],
   "source": [
    "df.shape"
   ]
  },
  {
   "cell_type": "code",
   "execution_count": 15,
   "metadata": {},
   "outputs": [
    {
     "data": {
      "text/html": [
       "<div>\n",
       "<style scoped>\n",
       "    .dataframe tbody tr th:only-of-type {\n",
       "        vertical-align: middle;\n",
       "    }\n",
       "\n",
       "    .dataframe tbody tr th {\n",
       "        vertical-align: top;\n",
       "    }\n",
       "\n",
       "    .dataframe thead th {\n",
       "        text-align: right;\n",
       "    }\n",
       "</style>\n",
       "<table border=\"1\" class=\"dataframe\">\n",
       "  <thead>\n",
       "    <tr style=\"text-align: right;\">\n",
       "      <th></th>\n",
       "      <th>InvoiceNo</th>\n",
       "      <th>StockCode</th>\n",
       "      <th>Description</th>\n",
       "      <th>Quantity</th>\n",
       "      <th>InvoiceDate</th>\n",
       "      <th>UnitPrice</th>\n",
       "      <th>CustomerID</th>\n",
       "      <th>Country</th>\n",
       "    </tr>\n",
       "  </thead>\n",
       "  <tbody>\n",
       "    <tr>\n",
       "      <th>0</th>\n",
       "      <td>536365</td>\n",
       "      <td>85123A</td>\n",
       "      <td>WHITE HANGING HEART T-LIGHT HOLDER</td>\n",
       "      <td>6</td>\n",
       "      <td>2010-12-01 08:26:00</td>\n",
       "      <td>2.55</td>\n",
       "      <td>17850.0</td>\n",
       "      <td>United Kingdom</td>\n",
       "    </tr>\n",
       "    <tr>\n",
       "      <th>1</th>\n",
       "      <td>536365</td>\n",
       "      <td>71053</td>\n",
       "      <td>WHITE METAL LANTERN</td>\n",
       "      <td>6</td>\n",
       "      <td>2010-12-01 08:26:00</td>\n",
       "      <td>3.39</td>\n",
       "      <td>17850.0</td>\n",
       "      <td>United Kingdom</td>\n",
       "    </tr>\n",
       "    <tr>\n",
       "      <th>2</th>\n",
       "      <td>536365</td>\n",
       "      <td>84406B</td>\n",
       "      <td>CREAM CUPID HEARTS COAT HANGER</td>\n",
       "      <td>8</td>\n",
       "      <td>2010-12-01 08:26:00</td>\n",
       "      <td>2.75</td>\n",
       "      <td>17850.0</td>\n",
       "      <td>United Kingdom</td>\n",
       "    </tr>\n",
       "    <tr>\n",
       "      <th>3</th>\n",
       "      <td>536365</td>\n",
       "      <td>84029G</td>\n",
       "      <td>KNITTED UNION FLAG HOT WATER BOTTLE</td>\n",
       "      <td>6</td>\n",
       "      <td>2010-12-01 08:26:00</td>\n",
       "      <td>3.39</td>\n",
       "      <td>17850.0</td>\n",
       "      <td>United Kingdom</td>\n",
       "    </tr>\n",
       "    <tr>\n",
       "      <th>4</th>\n",
       "      <td>536365</td>\n",
       "      <td>84029E</td>\n",
       "      <td>RED WOOLLY HOTTIE WHITE HEART.</td>\n",
       "      <td>6</td>\n",
       "      <td>2010-12-01 08:26:00</td>\n",
       "      <td>3.39</td>\n",
       "      <td>17850.0</td>\n",
       "      <td>United Kingdom</td>\n",
       "    </tr>\n",
       "  </tbody>\n",
       "</table>\n",
       "</div>"
      ],
      "text/plain": [
       "  InvoiceNo StockCode                          Description  Quantity  \\\n",
       "0    536365    85123A   WHITE HANGING HEART T-LIGHT HOLDER         6   \n",
       "1    536365     71053                  WHITE METAL LANTERN         6   \n",
       "2    536365    84406B       CREAM CUPID HEARTS COAT HANGER         8   \n",
       "3    536365    84029G  KNITTED UNION FLAG HOT WATER BOTTLE         6   \n",
       "4    536365    84029E       RED WOOLLY HOTTIE WHITE HEART.         6   \n",
       "\n",
       "          InvoiceDate  UnitPrice  CustomerID         Country  \n",
       "0 2010-12-01 08:26:00       2.55     17850.0  United Kingdom  \n",
       "1 2010-12-01 08:26:00       3.39     17850.0  United Kingdom  \n",
       "2 2010-12-01 08:26:00       2.75     17850.0  United Kingdom  \n",
       "3 2010-12-01 08:26:00       3.39     17850.0  United Kingdom  \n",
       "4 2010-12-01 08:26:00       3.39     17850.0  United Kingdom  "
      ]
     },
     "execution_count": 15,
     "metadata": {},
     "output_type": "execute_result"
    }
   ],
   "source": [
    "df.head()"
   ]
  },
  {
   "cell_type": "markdown",
   "metadata": {},
   "source": [
    "#### - Excluding Incomplete Month"
   ]
  },
  {
   "cell_type": "code",
   "execution_count": 16,
   "metadata": {},
   "outputs": [
    {
     "name": "stdout",
     "output_type": "stream",
     "text": [
      "Date Range: 2010-12-01 08:26:00 ~ 2011-12-09 12:50:00\n"
     ]
    }
   ],
   "source": [
    "print('Date Range: %s ~ %s' % (df['InvoiceDate'].min(), df['InvoiceDate'].max()))"
   ]
  },
  {
   "cell_type": "code",
   "execution_count": 17,
   "metadata": {},
   "outputs": [
    {
     "data": {
      "text/plain": [
       "(17304, 8)"
      ]
     },
     "execution_count": 17,
     "metadata": {},
     "output_type": "execute_result"
    }
   ],
   "source": [
    "df.loc[df['InvoiceDate'] >= '2011-12-01'].shape"
   ]
  },
  {
   "cell_type": "code",
   "execution_count": 18,
   "metadata": {},
   "outputs": [
    {
     "data": {
      "text/plain": [
       "(397924, 8)"
      ]
     },
     "execution_count": 18,
     "metadata": {},
     "output_type": "execute_result"
    }
   ],
   "source": [
    "df.shape"
   ]
  },
  {
   "cell_type": "code",
   "execution_count": 19,
   "metadata": {},
   "outputs": [],
   "source": [
    "df = df.loc[df['InvoiceDate'] < '2011-12-01']"
   ]
  },
  {
   "cell_type": "code",
   "execution_count": 20,
   "metadata": {},
   "outputs": [
    {
     "data": {
      "text/plain": [
       "(380620, 8)"
      ]
     },
     "execution_count": 20,
     "metadata": {},
     "output_type": "execute_result"
    }
   ],
   "source": [
    "df.shape"
   ]
  },
  {
   "cell_type": "markdown",
   "metadata": {},
   "source": [
    "#### - Total Sales"
   ]
  },
  {
   "cell_type": "code",
   "execution_count": 21,
   "metadata": {},
   "outputs": [],
   "source": [
    "df['Sales'] = df['Quantity'] * df['UnitPrice']"
   ]
  },
  {
   "cell_type": "code",
   "execution_count": 22,
   "metadata": {},
   "outputs": [
    {
     "data": {
      "text/html": [
       "<div>\n",
       "<style scoped>\n",
       "    .dataframe tbody tr th:only-of-type {\n",
       "        vertical-align: middle;\n",
       "    }\n",
       "\n",
       "    .dataframe tbody tr th {\n",
       "        vertical-align: top;\n",
       "    }\n",
       "\n",
       "    .dataframe thead th {\n",
       "        text-align: right;\n",
       "    }\n",
       "</style>\n",
       "<table border=\"1\" class=\"dataframe\">\n",
       "  <thead>\n",
       "    <tr style=\"text-align: right;\">\n",
       "      <th></th>\n",
       "      <th>InvoiceNo</th>\n",
       "      <th>StockCode</th>\n",
       "      <th>Description</th>\n",
       "      <th>Quantity</th>\n",
       "      <th>InvoiceDate</th>\n",
       "      <th>UnitPrice</th>\n",
       "      <th>CustomerID</th>\n",
       "      <th>Country</th>\n",
       "      <th>Sales</th>\n",
       "    </tr>\n",
       "  </thead>\n",
       "  <tbody>\n",
       "    <tr>\n",
       "      <th>0</th>\n",
       "      <td>536365</td>\n",
       "      <td>85123A</td>\n",
       "      <td>WHITE HANGING HEART T-LIGHT HOLDER</td>\n",
       "      <td>6</td>\n",
       "      <td>2010-12-01 08:26:00</td>\n",
       "      <td>2.55</td>\n",
       "      <td>17850.0</td>\n",
       "      <td>United Kingdom</td>\n",
       "      <td>15.30</td>\n",
       "    </tr>\n",
       "    <tr>\n",
       "      <th>1</th>\n",
       "      <td>536365</td>\n",
       "      <td>71053</td>\n",
       "      <td>WHITE METAL LANTERN</td>\n",
       "      <td>6</td>\n",
       "      <td>2010-12-01 08:26:00</td>\n",
       "      <td>3.39</td>\n",
       "      <td>17850.0</td>\n",
       "      <td>United Kingdom</td>\n",
       "      <td>20.34</td>\n",
       "    </tr>\n",
       "    <tr>\n",
       "      <th>2</th>\n",
       "      <td>536365</td>\n",
       "      <td>84406B</td>\n",
       "      <td>CREAM CUPID HEARTS COAT HANGER</td>\n",
       "      <td>8</td>\n",
       "      <td>2010-12-01 08:26:00</td>\n",
       "      <td>2.75</td>\n",
       "      <td>17850.0</td>\n",
       "      <td>United Kingdom</td>\n",
       "      <td>22.00</td>\n",
       "    </tr>\n",
       "    <tr>\n",
       "      <th>3</th>\n",
       "      <td>536365</td>\n",
       "      <td>84029G</td>\n",
       "      <td>KNITTED UNION FLAG HOT WATER BOTTLE</td>\n",
       "      <td>6</td>\n",
       "      <td>2010-12-01 08:26:00</td>\n",
       "      <td>3.39</td>\n",
       "      <td>17850.0</td>\n",
       "      <td>United Kingdom</td>\n",
       "      <td>20.34</td>\n",
       "    </tr>\n",
       "    <tr>\n",
       "      <th>4</th>\n",
       "      <td>536365</td>\n",
       "      <td>84029E</td>\n",
       "      <td>RED WOOLLY HOTTIE WHITE HEART.</td>\n",
       "      <td>6</td>\n",
       "      <td>2010-12-01 08:26:00</td>\n",
       "      <td>3.39</td>\n",
       "      <td>17850.0</td>\n",
       "      <td>United Kingdom</td>\n",
       "      <td>20.34</td>\n",
       "    </tr>\n",
       "  </tbody>\n",
       "</table>\n",
       "</div>"
      ],
      "text/plain": [
       "  InvoiceNo StockCode                          Description  Quantity  \\\n",
       "0    536365    85123A   WHITE HANGING HEART T-LIGHT HOLDER         6   \n",
       "1    536365     71053                  WHITE METAL LANTERN         6   \n",
       "2    536365    84406B       CREAM CUPID HEARTS COAT HANGER         8   \n",
       "3    536365    84029G  KNITTED UNION FLAG HOT WATER BOTTLE         6   \n",
       "4    536365    84029E       RED WOOLLY HOTTIE WHITE HEART.         6   \n",
       "\n",
       "          InvoiceDate  UnitPrice  CustomerID         Country  Sales  \n",
       "0 2010-12-01 08:26:00       2.55     17850.0  United Kingdom  15.30  \n",
       "1 2010-12-01 08:26:00       3.39     17850.0  United Kingdom  20.34  \n",
       "2 2010-12-01 08:26:00       2.75     17850.0  United Kingdom  22.00  \n",
       "3 2010-12-01 08:26:00       3.39     17850.0  United Kingdom  20.34  \n",
       "4 2010-12-01 08:26:00       3.39     17850.0  United Kingdom  20.34  "
      ]
     },
     "execution_count": 22,
     "metadata": {},
     "output_type": "execute_result"
    }
   ],
   "source": [
    "df.head()"
   ]
  },
  {
   "cell_type": "markdown",
   "metadata": {},
   "source": [
    "#### - Per Order Data"
   ]
  },
  {
   "cell_type": "code",
   "execution_count": 23,
   "metadata": {},
   "outputs": [],
   "source": [
    "orders_df = df.groupby(['CustomerID', 'InvoiceNo']).agg({\n",
    "    'Sales': sum,\n",
    "    'InvoiceDate': max\n",
    "})"
   ]
  },
  {
   "cell_type": "code",
   "execution_count": 24,
   "metadata": {
    "scrolled": true
   },
   "outputs": [
    {
     "data": {
      "text/html": [
       "<div>\n",
       "<style scoped>\n",
       "    .dataframe tbody tr th:only-of-type {\n",
       "        vertical-align: middle;\n",
       "    }\n",
       "\n",
       "    .dataframe tbody tr th {\n",
       "        vertical-align: top;\n",
       "    }\n",
       "\n",
       "    .dataframe thead th {\n",
       "        text-align: right;\n",
       "    }\n",
       "</style>\n",
       "<table border=\"1\" class=\"dataframe\">\n",
       "  <thead>\n",
       "    <tr style=\"text-align: right;\">\n",
       "      <th></th>\n",
       "      <th></th>\n",
       "      <th>Sales</th>\n",
       "      <th>InvoiceDate</th>\n",
       "    </tr>\n",
       "    <tr>\n",
       "      <th>CustomerID</th>\n",
       "      <th>InvoiceNo</th>\n",
       "      <th></th>\n",
       "      <th></th>\n",
       "    </tr>\n",
       "  </thead>\n",
       "  <tbody>\n",
       "    <tr>\n",
       "      <th>12346.0</th>\n",
       "      <th>541431</th>\n",
       "      <td>77183.60</td>\n",
       "      <td>2011-01-18 10:01:00</td>\n",
       "    </tr>\n",
       "    <tr>\n",
       "      <th rowspan=\"4\" valign=\"top\">12347.0</th>\n",
       "      <th>537626</th>\n",
       "      <td>711.79</td>\n",
       "      <td>2010-12-07 14:57:00</td>\n",
       "    </tr>\n",
       "    <tr>\n",
       "      <th>542237</th>\n",
       "      <td>475.39</td>\n",
       "      <td>2011-01-26 14:30:00</td>\n",
       "    </tr>\n",
       "    <tr>\n",
       "      <th>549222</th>\n",
       "      <td>636.25</td>\n",
       "      <td>2011-04-07 10:43:00</td>\n",
       "    </tr>\n",
       "    <tr>\n",
       "      <th>556201</th>\n",
       "      <td>382.52</td>\n",
       "      <td>2011-06-09 13:01:00</td>\n",
       "    </tr>\n",
       "    <tr>\n",
       "      <th>...</th>\n",
       "      <th>...</th>\n",
       "      <td>...</td>\n",
       "      <td>...</td>\n",
       "    </tr>\n",
       "    <tr>\n",
       "      <th rowspan=\"2\" valign=\"top\">18283.0</th>\n",
       "      <th>578262</th>\n",
       "      <td>313.65</td>\n",
       "      <td>2011-11-23 13:27:00</td>\n",
       "    </tr>\n",
       "    <tr>\n",
       "      <th>579673</th>\n",
       "      <td>223.61</td>\n",
       "      <td>2011-11-30 12:59:00</td>\n",
       "    </tr>\n",
       "    <tr>\n",
       "      <th rowspan=\"3\" valign=\"top\">18287.0</th>\n",
       "      <th>554065</th>\n",
       "      <td>765.28</td>\n",
       "      <td>2011-05-22 10:39:00</td>\n",
       "    </tr>\n",
       "    <tr>\n",
       "      <th>570715</th>\n",
       "      <td>1001.32</td>\n",
       "      <td>2011-10-12 10:23:00</td>\n",
       "    </tr>\n",
       "    <tr>\n",
       "      <th>573167</th>\n",
       "      <td>70.68</td>\n",
       "      <td>2011-10-28 09:29:00</td>\n",
       "    </tr>\n",
       "  </tbody>\n",
       "</table>\n",
       "<p>17758 rows × 2 columns</p>\n",
       "</div>"
      ],
      "text/plain": [
       "                         Sales         InvoiceDate\n",
       "CustomerID InvoiceNo                              \n",
       "12346.0    541431     77183.60 2011-01-18 10:01:00\n",
       "12347.0    537626       711.79 2010-12-07 14:57:00\n",
       "           542237       475.39 2011-01-26 14:30:00\n",
       "           549222       636.25 2011-04-07 10:43:00\n",
       "           556201       382.52 2011-06-09 13:01:00\n",
       "...                        ...                 ...\n",
       "18283.0    578262       313.65 2011-11-23 13:27:00\n",
       "           579673       223.61 2011-11-30 12:59:00\n",
       "18287.0    554065       765.28 2011-05-22 10:39:00\n",
       "           570715      1001.32 2011-10-12 10:23:00\n",
       "           573167        70.68 2011-10-28 09:29:00\n",
       "\n",
       "[17758 rows x 2 columns]"
      ]
     },
     "execution_count": 24,
     "metadata": {},
     "output_type": "execute_result"
    }
   ],
   "source": [
    "orders_df"
   ]
  },
  {
   "cell_type": "markdown",
   "metadata": {},
   "source": [
    "### 3. Data Analysis"
   ]
  },
  {
   "cell_type": "code",
   "execution_count": 25,
   "metadata": {},
   "outputs": [],
   "source": [
    "def groupby_mean(x):\n",
    "    return x.mean()\n",
    "\n",
    "def groupby_count(x):\n",
    "    return x.count()\n",
    "\n",
    "def purchase_duration(x):\n",
    "    return (x.max() - x.min()).days\n",
    "\n",
    "def avg_frequency(x):\n",
    "    return (x.max() - x.min()).days/x.count()\n",
    "\n",
    "groupby_mean.__name__ = 'avg'\n",
    "groupby_count.__name__ = 'count'\n",
    "purchase_duration.__name__ = 'purchase_duration'\n",
    "avg_frequency.__name__ = 'purchase_frequency'"
   ]
  },
  {
   "cell_type": "code",
   "execution_count": 26,
   "metadata": {
    "scrolled": true
   },
   "outputs": [],
   "source": [
    "summary_df = orders_df.reset_index().groupby('CustomerID').agg({\n",
    "    'Sales': [min, max, sum, groupby_mean, groupby_count],\n",
    "    'InvoiceDate': [min, max, purchase_duration, avg_frequency]\n",
    "})"
   ]
  },
  {
   "cell_type": "code",
   "execution_count": 27,
   "metadata": {
    "scrolled": true
   },
   "outputs": [
    {
     "data": {
      "text/html": [
       "<div>\n",
       "<style scoped>\n",
       "    .dataframe tbody tr th:only-of-type {\n",
       "        vertical-align: middle;\n",
       "    }\n",
       "\n",
       "    .dataframe tbody tr th {\n",
       "        vertical-align: top;\n",
       "    }\n",
       "\n",
       "    .dataframe thead tr th {\n",
       "        text-align: left;\n",
       "    }\n",
       "\n",
       "    .dataframe thead tr:last-of-type th {\n",
       "        text-align: right;\n",
       "    }\n",
       "</style>\n",
       "<table border=\"1\" class=\"dataframe\">\n",
       "  <thead>\n",
       "    <tr>\n",
       "      <th></th>\n",
       "      <th colspan=\"5\" halign=\"left\">Sales</th>\n",
       "      <th colspan=\"4\" halign=\"left\">InvoiceDate</th>\n",
       "    </tr>\n",
       "    <tr>\n",
       "      <th></th>\n",
       "      <th>min</th>\n",
       "      <th>max</th>\n",
       "      <th>sum</th>\n",
       "      <th>avg</th>\n",
       "      <th>count</th>\n",
       "      <th>min</th>\n",
       "      <th>max</th>\n",
       "      <th>purchase_duration</th>\n",
       "      <th>purchase_frequency</th>\n",
       "    </tr>\n",
       "    <tr>\n",
       "      <th>CustomerID</th>\n",
       "      <th></th>\n",
       "      <th></th>\n",
       "      <th></th>\n",
       "      <th></th>\n",
       "      <th></th>\n",
       "      <th></th>\n",
       "      <th></th>\n",
       "      <th></th>\n",
       "      <th></th>\n",
       "    </tr>\n",
       "  </thead>\n",
       "  <tbody>\n",
       "    <tr>\n",
       "      <th>12346.0</th>\n",
       "      <td>77183.60</td>\n",
       "      <td>77183.60</td>\n",
       "      <td>77183.60</td>\n",
       "      <td>77183.600000</td>\n",
       "      <td>1.0</td>\n",
       "      <td>2011-01-18 10:01:00</td>\n",
       "      <td>2011-01-18 10:01:00</td>\n",
       "      <td>0</td>\n",
       "      <td>0.000000</td>\n",
       "    </tr>\n",
       "    <tr>\n",
       "      <th>12347.0</th>\n",
       "      <td>382.52</td>\n",
       "      <td>1294.32</td>\n",
       "      <td>4085.18</td>\n",
       "      <td>680.863333</td>\n",
       "      <td>6.0</td>\n",
       "      <td>2010-12-07 14:57:00</td>\n",
       "      <td>2011-10-31 12:25:00</td>\n",
       "      <td>327</td>\n",
       "      <td>54.500000</td>\n",
       "    </tr>\n",
       "    <tr>\n",
       "      <th>12348.0</th>\n",
       "      <td>227.44</td>\n",
       "      <td>892.80</td>\n",
       "      <td>1797.24</td>\n",
       "      <td>449.310000</td>\n",
       "      <td>4.0</td>\n",
       "      <td>2010-12-16 19:09:00</td>\n",
       "      <td>2011-09-25 13:13:00</td>\n",
       "      <td>282</td>\n",
       "      <td>70.500000</td>\n",
       "    </tr>\n",
       "    <tr>\n",
       "      <th>12349.0</th>\n",
       "      <td>1757.55</td>\n",
       "      <td>1757.55</td>\n",
       "      <td>1757.55</td>\n",
       "      <td>1757.550000</td>\n",
       "      <td>1.0</td>\n",
       "      <td>2011-11-21 09:51:00</td>\n",
       "      <td>2011-11-21 09:51:00</td>\n",
       "      <td>0</td>\n",
       "      <td>0.000000</td>\n",
       "    </tr>\n",
       "    <tr>\n",
       "      <th>12350.0</th>\n",
       "      <td>334.40</td>\n",
       "      <td>334.40</td>\n",
       "      <td>334.40</td>\n",
       "      <td>334.400000</td>\n",
       "      <td>1.0</td>\n",
       "      <td>2011-02-02 16:01:00</td>\n",
       "      <td>2011-02-02 16:01:00</td>\n",
       "      <td>0</td>\n",
       "      <td>0.000000</td>\n",
       "    </tr>\n",
       "    <tr>\n",
       "      <th>...</th>\n",
       "      <td>...</td>\n",
       "      <td>...</td>\n",
       "      <td>...</td>\n",
       "      <td>...</td>\n",
       "      <td>...</td>\n",
       "      <td>...</td>\n",
       "      <td>...</td>\n",
       "      <td>...</td>\n",
       "      <td>...</td>\n",
       "    </tr>\n",
       "    <tr>\n",
       "      <th>18280.0</th>\n",
       "      <td>180.60</td>\n",
       "      <td>180.60</td>\n",
       "      <td>180.60</td>\n",
       "      <td>180.600000</td>\n",
       "      <td>1.0</td>\n",
       "      <td>2011-03-07 09:52:00</td>\n",
       "      <td>2011-03-07 09:52:00</td>\n",
       "      <td>0</td>\n",
       "      <td>0.000000</td>\n",
       "    </tr>\n",
       "    <tr>\n",
       "      <th>18281.0</th>\n",
       "      <td>80.82</td>\n",
       "      <td>80.82</td>\n",
       "      <td>80.82</td>\n",
       "      <td>80.820000</td>\n",
       "      <td>1.0</td>\n",
       "      <td>2011-06-12 10:53:00</td>\n",
       "      <td>2011-06-12 10:53:00</td>\n",
       "      <td>0</td>\n",
       "      <td>0.000000</td>\n",
       "    </tr>\n",
       "    <tr>\n",
       "      <th>18282.0</th>\n",
       "      <td>100.21</td>\n",
       "      <td>100.21</td>\n",
       "      <td>100.21</td>\n",
       "      <td>100.210000</td>\n",
       "      <td>1.0</td>\n",
       "      <td>2011-08-05 13:35:00</td>\n",
       "      <td>2011-08-05 13:35:00</td>\n",
       "      <td>0</td>\n",
       "      <td>0.000000</td>\n",
       "    </tr>\n",
       "    <tr>\n",
       "      <th>18283.0</th>\n",
       "      <td>1.95</td>\n",
       "      <td>313.65</td>\n",
       "      <td>1886.88</td>\n",
       "      <td>125.792000</td>\n",
       "      <td>15.0</td>\n",
       "      <td>2011-01-06 14:14:00</td>\n",
       "      <td>2011-11-30 12:59:00</td>\n",
       "      <td>327</td>\n",
       "      <td>21.800000</td>\n",
       "    </tr>\n",
       "    <tr>\n",
       "      <th>18287.0</th>\n",
       "      <td>70.68</td>\n",
       "      <td>1001.32</td>\n",
       "      <td>1837.28</td>\n",
       "      <td>612.426667</td>\n",
       "      <td>3.0</td>\n",
       "      <td>2011-05-22 10:39:00</td>\n",
       "      <td>2011-10-28 09:29:00</td>\n",
       "      <td>158</td>\n",
       "      <td>52.666667</td>\n",
       "    </tr>\n",
       "  </tbody>\n",
       "</table>\n",
       "<p>4298 rows × 9 columns</p>\n",
       "</div>"
      ],
      "text/plain": [
       "               Sales                                          \\\n",
       "                 min       max       sum           avg count   \n",
       "CustomerID                                                     \n",
       "12346.0     77183.60  77183.60  77183.60  77183.600000   1.0   \n",
       "12347.0       382.52   1294.32   4085.18    680.863333   6.0   \n",
       "12348.0       227.44    892.80   1797.24    449.310000   4.0   \n",
       "12349.0      1757.55   1757.55   1757.55   1757.550000   1.0   \n",
       "12350.0       334.40    334.40    334.40    334.400000   1.0   \n",
       "...              ...       ...       ...           ...   ...   \n",
       "18280.0       180.60    180.60    180.60    180.600000   1.0   \n",
       "18281.0        80.82     80.82     80.82     80.820000   1.0   \n",
       "18282.0       100.21    100.21    100.21    100.210000   1.0   \n",
       "18283.0         1.95    313.65   1886.88    125.792000  15.0   \n",
       "18287.0        70.68   1001.32   1837.28    612.426667   3.0   \n",
       "\n",
       "                   InvoiceDate                                        \\\n",
       "                           min                 max purchase_duration   \n",
       "CustomerID                                                             \n",
       "12346.0    2011-01-18 10:01:00 2011-01-18 10:01:00                 0   \n",
       "12347.0    2010-12-07 14:57:00 2011-10-31 12:25:00               327   \n",
       "12348.0    2010-12-16 19:09:00 2011-09-25 13:13:00               282   \n",
       "12349.0    2011-11-21 09:51:00 2011-11-21 09:51:00                 0   \n",
       "12350.0    2011-02-02 16:01:00 2011-02-02 16:01:00                 0   \n",
       "...                        ...                 ...               ...   \n",
       "18280.0    2011-03-07 09:52:00 2011-03-07 09:52:00                 0   \n",
       "18281.0    2011-06-12 10:53:00 2011-06-12 10:53:00                 0   \n",
       "18282.0    2011-08-05 13:35:00 2011-08-05 13:35:00                 0   \n",
       "18283.0    2011-01-06 14:14:00 2011-11-30 12:59:00               327   \n",
       "18287.0    2011-05-22 10:39:00 2011-10-28 09:29:00               158   \n",
       "\n",
       "                               \n",
       "           purchase_frequency  \n",
       "CustomerID                     \n",
       "12346.0              0.000000  \n",
       "12347.0             54.500000  \n",
       "12348.0             70.500000  \n",
       "12349.0              0.000000  \n",
       "12350.0              0.000000  \n",
       "...                       ...  \n",
       "18280.0              0.000000  \n",
       "18281.0              0.000000  \n",
       "18282.0              0.000000  \n",
       "18283.0             21.800000  \n",
       "18287.0             52.666667  \n",
       "\n",
       "[4298 rows x 9 columns]"
      ]
     },
     "execution_count": 27,
     "metadata": {},
     "output_type": "execute_result"
    }
   ],
   "source": [
    "summary_df"
   ]
  },
  {
   "cell_type": "code",
   "execution_count": 28,
   "metadata": {},
   "outputs": [],
   "source": [
    "summary_df.columns = ['_'.join(col).lower() for col in summary_df.columns]"
   ]
  },
  {
   "cell_type": "code",
   "execution_count": 29,
   "metadata": {},
   "outputs": [
    {
     "data": {
      "text/html": [
       "<div>\n",
       "<style scoped>\n",
       "    .dataframe tbody tr th:only-of-type {\n",
       "        vertical-align: middle;\n",
       "    }\n",
       "\n",
       "    .dataframe tbody tr th {\n",
       "        vertical-align: top;\n",
       "    }\n",
       "\n",
       "    .dataframe thead th {\n",
       "        text-align: right;\n",
       "    }\n",
       "</style>\n",
       "<table border=\"1\" class=\"dataframe\">\n",
       "  <thead>\n",
       "    <tr style=\"text-align: right;\">\n",
       "      <th></th>\n",
       "      <th>sales_min</th>\n",
       "      <th>sales_max</th>\n",
       "      <th>sales_sum</th>\n",
       "      <th>sales_avg</th>\n",
       "      <th>sales_count</th>\n",
       "      <th>invoicedate_min</th>\n",
       "      <th>invoicedate_max</th>\n",
       "      <th>invoicedate_purchase_duration</th>\n",
       "      <th>invoicedate_purchase_frequency</th>\n",
       "    </tr>\n",
       "    <tr>\n",
       "      <th>CustomerID</th>\n",
       "      <th></th>\n",
       "      <th></th>\n",
       "      <th></th>\n",
       "      <th></th>\n",
       "      <th></th>\n",
       "      <th></th>\n",
       "      <th></th>\n",
       "      <th></th>\n",
       "      <th></th>\n",
       "    </tr>\n",
       "  </thead>\n",
       "  <tbody>\n",
       "    <tr>\n",
       "      <th>12346.0</th>\n",
       "      <td>77183.60</td>\n",
       "      <td>77183.60</td>\n",
       "      <td>77183.60</td>\n",
       "      <td>77183.600000</td>\n",
       "      <td>1.0</td>\n",
       "      <td>2011-01-18 10:01:00</td>\n",
       "      <td>2011-01-18 10:01:00</td>\n",
       "      <td>0</td>\n",
       "      <td>0.000000</td>\n",
       "    </tr>\n",
       "    <tr>\n",
       "      <th>12347.0</th>\n",
       "      <td>382.52</td>\n",
       "      <td>1294.32</td>\n",
       "      <td>4085.18</td>\n",
       "      <td>680.863333</td>\n",
       "      <td>6.0</td>\n",
       "      <td>2010-12-07 14:57:00</td>\n",
       "      <td>2011-10-31 12:25:00</td>\n",
       "      <td>327</td>\n",
       "      <td>54.500000</td>\n",
       "    </tr>\n",
       "    <tr>\n",
       "      <th>12348.0</th>\n",
       "      <td>227.44</td>\n",
       "      <td>892.80</td>\n",
       "      <td>1797.24</td>\n",
       "      <td>449.310000</td>\n",
       "      <td>4.0</td>\n",
       "      <td>2010-12-16 19:09:00</td>\n",
       "      <td>2011-09-25 13:13:00</td>\n",
       "      <td>282</td>\n",
       "      <td>70.500000</td>\n",
       "    </tr>\n",
       "    <tr>\n",
       "      <th>12349.0</th>\n",
       "      <td>1757.55</td>\n",
       "      <td>1757.55</td>\n",
       "      <td>1757.55</td>\n",
       "      <td>1757.550000</td>\n",
       "      <td>1.0</td>\n",
       "      <td>2011-11-21 09:51:00</td>\n",
       "      <td>2011-11-21 09:51:00</td>\n",
       "      <td>0</td>\n",
       "      <td>0.000000</td>\n",
       "    </tr>\n",
       "    <tr>\n",
       "      <th>12350.0</th>\n",
       "      <td>334.40</td>\n",
       "      <td>334.40</td>\n",
       "      <td>334.40</td>\n",
       "      <td>334.400000</td>\n",
       "      <td>1.0</td>\n",
       "      <td>2011-02-02 16:01:00</td>\n",
       "      <td>2011-02-02 16:01:00</td>\n",
       "      <td>0</td>\n",
       "      <td>0.000000</td>\n",
       "    </tr>\n",
       "    <tr>\n",
       "      <th>...</th>\n",
       "      <td>...</td>\n",
       "      <td>...</td>\n",
       "      <td>...</td>\n",
       "      <td>...</td>\n",
       "      <td>...</td>\n",
       "      <td>...</td>\n",
       "      <td>...</td>\n",
       "      <td>...</td>\n",
       "      <td>...</td>\n",
       "    </tr>\n",
       "    <tr>\n",
       "      <th>18280.0</th>\n",
       "      <td>180.60</td>\n",
       "      <td>180.60</td>\n",
       "      <td>180.60</td>\n",
       "      <td>180.600000</td>\n",
       "      <td>1.0</td>\n",
       "      <td>2011-03-07 09:52:00</td>\n",
       "      <td>2011-03-07 09:52:00</td>\n",
       "      <td>0</td>\n",
       "      <td>0.000000</td>\n",
       "    </tr>\n",
       "    <tr>\n",
       "      <th>18281.0</th>\n",
       "      <td>80.82</td>\n",
       "      <td>80.82</td>\n",
       "      <td>80.82</td>\n",
       "      <td>80.820000</td>\n",
       "      <td>1.0</td>\n",
       "      <td>2011-06-12 10:53:00</td>\n",
       "      <td>2011-06-12 10:53:00</td>\n",
       "      <td>0</td>\n",
       "      <td>0.000000</td>\n",
       "    </tr>\n",
       "    <tr>\n",
       "      <th>18282.0</th>\n",
       "      <td>100.21</td>\n",
       "      <td>100.21</td>\n",
       "      <td>100.21</td>\n",
       "      <td>100.210000</td>\n",
       "      <td>1.0</td>\n",
       "      <td>2011-08-05 13:35:00</td>\n",
       "      <td>2011-08-05 13:35:00</td>\n",
       "      <td>0</td>\n",
       "      <td>0.000000</td>\n",
       "    </tr>\n",
       "    <tr>\n",
       "      <th>18283.0</th>\n",
       "      <td>1.95</td>\n",
       "      <td>313.65</td>\n",
       "      <td>1886.88</td>\n",
       "      <td>125.792000</td>\n",
       "      <td>15.0</td>\n",
       "      <td>2011-01-06 14:14:00</td>\n",
       "      <td>2011-11-30 12:59:00</td>\n",
       "      <td>327</td>\n",
       "      <td>21.800000</td>\n",
       "    </tr>\n",
       "    <tr>\n",
       "      <th>18287.0</th>\n",
       "      <td>70.68</td>\n",
       "      <td>1001.32</td>\n",
       "      <td>1837.28</td>\n",
       "      <td>612.426667</td>\n",
       "      <td>3.0</td>\n",
       "      <td>2011-05-22 10:39:00</td>\n",
       "      <td>2011-10-28 09:29:00</td>\n",
       "      <td>158</td>\n",
       "      <td>52.666667</td>\n",
       "    </tr>\n",
       "  </tbody>\n",
       "</table>\n",
       "<p>4298 rows × 9 columns</p>\n",
       "</div>"
      ],
      "text/plain": [
       "            sales_min  sales_max  sales_sum     sales_avg  sales_count  \\\n",
       "CustomerID                                                               \n",
       "12346.0      77183.60   77183.60   77183.60  77183.600000          1.0   \n",
       "12347.0        382.52    1294.32    4085.18    680.863333          6.0   \n",
       "12348.0        227.44     892.80    1797.24    449.310000          4.0   \n",
       "12349.0       1757.55    1757.55    1757.55   1757.550000          1.0   \n",
       "12350.0        334.40     334.40     334.40    334.400000          1.0   \n",
       "...               ...        ...        ...           ...          ...   \n",
       "18280.0        180.60     180.60     180.60    180.600000          1.0   \n",
       "18281.0         80.82      80.82      80.82     80.820000          1.0   \n",
       "18282.0        100.21     100.21     100.21    100.210000          1.0   \n",
       "18283.0          1.95     313.65    1886.88    125.792000         15.0   \n",
       "18287.0         70.68    1001.32    1837.28    612.426667          3.0   \n",
       "\n",
       "               invoicedate_min     invoicedate_max  \\\n",
       "CustomerID                                           \n",
       "12346.0    2011-01-18 10:01:00 2011-01-18 10:01:00   \n",
       "12347.0    2010-12-07 14:57:00 2011-10-31 12:25:00   \n",
       "12348.0    2010-12-16 19:09:00 2011-09-25 13:13:00   \n",
       "12349.0    2011-11-21 09:51:00 2011-11-21 09:51:00   \n",
       "12350.0    2011-02-02 16:01:00 2011-02-02 16:01:00   \n",
       "...                        ...                 ...   \n",
       "18280.0    2011-03-07 09:52:00 2011-03-07 09:52:00   \n",
       "18281.0    2011-06-12 10:53:00 2011-06-12 10:53:00   \n",
       "18282.0    2011-08-05 13:35:00 2011-08-05 13:35:00   \n",
       "18283.0    2011-01-06 14:14:00 2011-11-30 12:59:00   \n",
       "18287.0    2011-05-22 10:39:00 2011-10-28 09:29:00   \n",
       "\n",
       "            invoicedate_purchase_duration  invoicedate_purchase_frequency  \n",
       "CustomerID                                                                 \n",
       "12346.0                                 0                        0.000000  \n",
       "12347.0                               327                       54.500000  \n",
       "12348.0                               282                       70.500000  \n",
       "12349.0                                 0                        0.000000  \n",
       "12350.0                                 0                        0.000000  \n",
       "...                                   ...                             ...  \n",
       "18280.0                                 0                        0.000000  \n",
       "18281.0                                 0                        0.000000  \n",
       "18282.0                                 0                        0.000000  \n",
       "18283.0                               327                       21.800000  \n",
       "18287.0                               158                       52.666667  \n",
       "\n",
       "[4298 rows x 9 columns]"
      ]
     },
     "execution_count": 29,
     "metadata": {},
     "output_type": "execute_result"
    }
   ],
   "source": [
    "summary_df"
   ]
  },
  {
   "cell_type": "code",
   "execution_count": 30,
   "metadata": {},
   "outputs": [
    {
     "data": {
      "text/plain": [
       "(4298, 9)"
      ]
     },
     "execution_count": 30,
     "metadata": {},
     "output_type": "execute_result"
    }
   ],
   "source": [
    "summary_df.shape"
   ]
  },
  {
   "cell_type": "code",
   "execution_count": 31,
   "metadata": {},
   "outputs": [],
   "source": [
    "summary_df = summary_df.loc[summary_df['invoicedate_purchase_duration'] > 0]"
   ]
  },
  {
   "cell_type": "code",
   "execution_count": 32,
   "metadata": {},
   "outputs": [
    {
     "data": {
      "text/plain": [
       "(2692, 9)"
      ]
     },
     "execution_count": 32,
     "metadata": {},
     "output_type": "execute_result"
    }
   ],
   "source": [
    "summary_df.shape"
   ]
  },
  {
   "cell_type": "code",
   "execution_count": 33,
   "metadata": {},
   "outputs": [
    {
     "data": {
      "image/png": "[encoded data removed]",
      "text/plain": [
       "<Figure size 864x504 with 1 Axes>"
      ]
     },
     "metadata": {
      "needs_background": "light"
     },
     "output_type": "display_data"
    }
   ],
   "source": [
    "ax = summary_df.groupby('sales_count').count()['sales_avg'][:20].plot(\n",
    "    kind='bar', \n",
    "    color='skyblue',\n",
    "    figsize=(12,7), \n",
    "    grid=True\n",
    ")\n",
    "\n",
    "ax.set_ylabel('count')\n",
    "\n",
    "plt.show()"
   ]
  },
  {
   "cell_type": "code",
   "execution_count": 34,
   "metadata": {
    "scrolled": true
   },
   "outputs": [
    {
     "data": {
      "text/plain": [
       "count    2692.000000\n",
       "mean        5.971025\n",
       "std         8.878128\n",
       "min         2.000000\n",
       "25%         2.000000\n",
       "50%         4.000000\n",
       "75%         6.000000\n",
       "max       201.000000\n",
       "Name: sales_count, dtype: float64"
      ]
     },
     "execution_count": 34,
     "metadata": {},
     "output_type": "execute_result"
    }
   ],
   "source": [
    "summary_df['sales_count'].describe()"
   ]
  },
  {
   "cell_type": "code",
   "execution_count": 35,
   "metadata": {},
   "outputs": [
    {
     "data": {
      "text/plain": [
       "count     2692.000000\n",
       "mean       391.458687\n",
       "std        465.584404\n",
       "min          3.450000\n",
       "25%        197.661000\n",
       "50%        306.043333\n",
       "75%        444.524000\n",
       "max      14844.766667\n",
       "Name: sales_avg, dtype: float64"
      ]
     },
     "execution_count": 35,
     "metadata": {},
     "output_type": "execute_result"
    }
   ],
   "source": [
    "summary_df['sales_avg'].describe()"
   ]
  },
  {
   "cell_type": "code",
   "execution_count": 36,
   "metadata": {},
   "outputs": [
    {
     "data": {
      "image/png": "[encoded data removed]",
      "text/plain": [
       "<Figure size 864x504 with 1 Axes>"
      ]
     },
     "metadata": {
      "needs_background": "light"
     },
     "output_type": "display_data"
    }
   ],
   "source": [
    "ax = summary_df['invoicedate_purchase_frequency'].hist(\n",
    "    bins=20,\n",
    "    color='skyblue',\n",
    "    rwidth=0.7,\n",
    "    figsize=(12,7)\n",
    ")\n",
    "\n",
    "ax.set_xlabel('avg. number of days between purchases')\n",
    "ax.set_ylabel('count')\n",
    "\n",
    "plt.show()"
   ]
  },
  {
   "cell_type": "code",
   "execution_count": 37,
   "metadata": {
    "scrolled": true
   },
   "outputs": [
    {
     "data": {
      "text/plain": [
       "count    2692.000000\n",
       "mean       46.999022\n",
       "std        32.395004\n",
       "min         0.029412\n",
       "25%        23.500000\n",
       "50%        40.500000\n",
       "75%        62.333333\n",
       "max       182.000000\n",
       "Name: invoicedate_purchase_frequency, dtype: float64"
      ]
     },
     "execution_count": 37,
     "metadata": {},
     "output_type": "execute_result"
    }
   ],
   "source": [
    "summary_df['invoicedate_purchase_frequency'].describe()"
   ]
  },
  {
   "cell_type": "code",
   "execution_count": 38,
   "metadata": {},
   "outputs": [
    {
     "data": {
      "text/plain": [
       "count    2692.000000\n",
       "mean      199.720282\n",
       "std       107.816559\n",
       "min         1.000000\n",
       "25%       107.000000\n",
       "50%       209.000000\n",
       "75%       296.000000\n",
       "max       364.000000\n",
       "Name: invoicedate_purchase_duration, dtype: float64"
      ]
     },
     "execution_count": 38,
     "metadata": {},
     "output_type": "execute_result"
    }
   ],
   "source": [
    "summary_df['invoicedate_purchase_duration'].describe()"
   ]
  },
  {
   "cell_type": "markdown",
   "metadata": {},
   "source": [
    "### 4. Predicting 3-Month CLV"
   ]
  },
  {
   "cell_type": "markdown",
   "metadata": {},
   "source": [
    "### 4.1. Data Preparation"
   ]
  },
  {
   "cell_type": "code",
   "execution_count": 39,
   "metadata": {},
   "outputs": [],
   "source": [
    "clv_freq = '3M'"
   ]
  },
  {
   "cell_type": "code",
   "execution_count": 40,
   "metadata": {},
   "outputs": [],
   "source": [
    "data_df = orders_df.reset_index().groupby([\n",
    "    'CustomerID',\n",
    "    pd.Grouper(key='InvoiceDate', freq=clv_freq)\n",
    "]).agg({\n",
    "    'Sales': [sum, groupby_mean, groupby_count],\n",
    "})"
   ]
  },
  {
   "cell_type": "code",
   "execution_count": 41,
   "metadata": {},
   "outputs": [],
   "source": [
    "data_df.columns = ['_'.join(col).lower() for col in data_df.columns]"
   ]
  },
  {
   "cell_type": "code",
   "execution_count": 42,
   "metadata": {
    "scrolled": true
   },
   "outputs": [],
   "source": [
    "data_df = data_df.reset_index()"
   ]
  },
  {
   "cell_type": "code",
   "execution_count": 43,
   "metadata": {},
   "outputs": [
    {
     "data": {
      "text/html": [
       "<div>\n",
       "<style scoped>\n",
       "    .dataframe tbody tr th:only-of-type {\n",
       "        vertical-align: middle;\n",
       "    }\n",
       "\n",
       "    .dataframe tbody tr th {\n",
       "        vertical-align: top;\n",
       "    }\n",
       "\n",
       "    .dataframe thead th {\n",
       "        text-align: right;\n",
       "    }\n",
       "</style>\n",
       "<table border=\"1\" class=\"dataframe\">\n",
       "  <thead>\n",
       "    <tr style=\"text-align: right;\">\n",
       "      <th></th>\n",
       "      <th>CustomerID</th>\n",
       "      <th>InvoiceDate</th>\n",
       "      <th>sales_sum</th>\n",
       "      <th>sales_avg</th>\n",
       "      <th>sales_count</th>\n",
       "    </tr>\n",
       "  </thead>\n",
       "  <tbody>\n",
       "    <tr>\n",
       "      <th>0</th>\n",
       "      <td>12346.0</td>\n",
       "      <td>2011-03-31</td>\n",
       "      <td>77183.60</td>\n",
       "      <td>77183.600</td>\n",
       "      <td>1.0</td>\n",
       "    </tr>\n",
       "    <tr>\n",
       "      <th>1</th>\n",
       "      <td>12347.0</td>\n",
       "      <td>2010-12-31</td>\n",
       "      <td>711.79</td>\n",
       "      <td>711.790</td>\n",
       "      <td>1.0</td>\n",
       "    </tr>\n",
       "    <tr>\n",
       "      <th>2</th>\n",
       "      <td>12347.0</td>\n",
       "      <td>2011-03-31</td>\n",
       "      <td>475.39</td>\n",
       "      <td>475.390</td>\n",
       "      <td>1.0</td>\n",
       "    </tr>\n",
       "    <tr>\n",
       "      <th>3</th>\n",
       "      <td>12347.0</td>\n",
       "      <td>2011-06-30</td>\n",
       "      <td>1018.77</td>\n",
       "      <td>509.385</td>\n",
       "      <td>2.0</td>\n",
       "    </tr>\n",
       "    <tr>\n",
       "      <th>4</th>\n",
       "      <td>12347.0</td>\n",
       "      <td>2011-09-30</td>\n",
       "      <td>584.91</td>\n",
       "      <td>584.910</td>\n",
       "      <td>1.0</td>\n",
       "    </tr>\n",
       "    <tr>\n",
       "      <th>5</th>\n",
       "      <td>12347.0</td>\n",
       "      <td>2011-12-31</td>\n",
       "      <td>1294.32</td>\n",
       "      <td>1294.320</td>\n",
       "      <td>1.0</td>\n",
       "    </tr>\n",
       "    <tr>\n",
       "      <th>6</th>\n",
       "      <td>12348.0</td>\n",
       "      <td>2010-12-31</td>\n",
       "      <td>892.80</td>\n",
       "      <td>892.800</td>\n",
       "      <td>1.0</td>\n",
       "    </tr>\n",
       "    <tr>\n",
       "      <th>7</th>\n",
       "      <td>12348.0</td>\n",
       "      <td>2011-03-31</td>\n",
       "      <td>227.44</td>\n",
       "      <td>227.440</td>\n",
       "      <td>1.0</td>\n",
       "    </tr>\n",
       "    <tr>\n",
       "      <th>8</th>\n",
       "      <td>12348.0</td>\n",
       "      <td>2011-06-30</td>\n",
       "      <td>367.00</td>\n",
       "      <td>367.000</td>\n",
       "      <td>1.0</td>\n",
       "    </tr>\n",
       "    <tr>\n",
       "      <th>9</th>\n",
       "      <td>12348.0</td>\n",
       "      <td>2011-09-30</td>\n",
       "      <td>310.00</td>\n",
       "      <td>310.000</td>\n",
       "      <td>1.0</td>\n",
       "    </tr>\n",
       "  </tbody>\n",
       "</table>\n",
       "</div>"
      ],
      "text/plain": [
       "   CustomerID InvoiceDate  sales_sum  sales_avg  sales_count\n",
       "0     12346.0  2011-03-31   77183.60  77183.600          1.0\n",
       "1     12347.0  2010-12-31     711.79    711.790          1.0\n",
       "2     12347.0  2011-03-31     475.39    475.390          1.0\n",
       "3     12347.0  2011-06-30    1018.77    509.385          2.0\n",
       "4     12347.0  2011-09-30     584.91    584.910          1.0\n",
       "5     12347.0  2011-12-31    1294.32   1294.320          1.0\n",
       "6     12348.0  2010-12-31     892.80    892.800          1.0\n",
       "7     12348.0  2011-03-31     227.44    227.440          1.0\n",
       "8     12348.0  2011-06-30     367.00    367.000          1.0\n",
       "9     12348.0  2011-09-30     310.00    310.000          1.0"
      ]
     },
     "execution_count": 43,
     "metadata": {},
     "output_type": "execute_result"
    }
   ],
   "source": [
    "data_df.head(10)"
   ]
  },
  {
   "cell_type": "code",
   "execution_count": 44,
   "metadata": {},
   "outputs": [],
   "source": [
    "date_month_map = {\n",
    "    str(x)[:10]: 'M_%s' % (i+1) for i, x in enumerate(\n",
    "        sorted(data_df.reset_index()['InvoiceDate'].unique(), reverse=True)\n",
    "    )\n",
    "}"
   ]
  },
  {
   "cell_type": "code",
   "execution_count": 45,
   "metadata": {},
   "outputs": [],
   "source": [
    "data_df['M'] = data_df['InvoiceDate'].apply(lambda x: date_month_map[str(x)[:10]])"
   ]
  },
  {
   "cell_type": "code",
   "execution_count": 46,
   "metadata": {},
   "outputs": [
    {
     "data": {
      "text/plain": [
       "{'2011-12-31': 'M_1',\n",
       " '2011-09-30': 'M_2',\n",
       " '2011-06-30': 'M_3',\n",
       " '2011-03-31': 'M_4',\n",
       " '2010-12-31': 'M_5'}"
      ]
     },
     "execution_count": 46,
     "metadata": {},
     "output_type": "execute_result"
    }
   ],
   "source": [
    "date_month_map"
   ]
  },
  {
   "cell_type": "code",
   "execution_count": 47,
   "metadata": {},
   "outputs": [
    {
     "data": {
      "text/html": [
       "<div>\n",
       "<style scoped>\n",
       "    .dataframe tbody tr th:only-of-type {\n",
       "        vertical-align: middle;\n",
       "    }\n",
       "\n",
       "    .dataframe tbody tr th {\n",
       "        vertical-align: top;\n",
       "    }\n",
       "\n",
       "    .dataframe thead th {\n",
       "        text-align: right;\n",
       "    }\n",
       "</style>\n",
       "<table border=\"1\" class=\"dataframe\">\n",
       "  <thead>\n",
       "    <tr style=\"text-align: right;\">\n",
       "      <th></th>\n",
       "      <th>CustomerID</th>\n",
       "      <th>InvoiceDate</th>\n",
       "      <th>sales_sum</th>\n",
       "      <th>sales_avg</th>\n",
       "      <th>sales_count</th>\n",
       "      <th>M</th>\n",
       "    </tr>\n",
       "  </thead>\n",
       "  <tbody>\n",
       "    <tr>\n",
       "      <th>0</th>\n",
       "      <td>12346.0</td>\n",
       "      <td>2011-03-31</td>\n",
       "      <td>77183.60</td>\n",
       "      <td>77183.600</td>\n",
       "      <td>1.0</td>\n",
       "      <td>M_4</td>\n",
       "    </tr>\n",
       "    <tr>\n",
       "      <th>1</th>\n",
       "      <td>12347.0</td>\n",
       "      <td>2010-12-31</td>\n",
       "      <td>711.79</td>\n",
       "      <td>711.790</td>\n",
       "      <td>1.0</td>\n",
       "      <td>M_5</td>\n",
       "    </tr>\n",
       "    <tr>\n",
       "      <th>2</th>\n",
       "      <td>12347.0</td>\n",
       "      <td>2011-03-31</td>\n",
       "      <td>475.39</td>\n",
       "      <td>475.390</td>\n",
       "      <td>1.0</td>\n",
       "      <td>M_4</td>\n",
       "    </tr>\n",
       "    <tr>\n",
       "      <th>3</th>\n",
       "      <td>12347.0</td>\n",
       "      <td>2011-06-30</td>\n",
       "      <td>1018.77</td>\n",
       "      <td>509.385</td>\n",
       "      <td>2.0</td>\n",
       "      <td>M_3</td>\n",
       "    </tr>\n",
       "    <tr>\n",
       "      <th>4</th>\n",
       "      <td>12347.0</td>\n",
       "      <td>2011-09-30</td>\n",
       "      <td>584.91</td>\n",
       "      <td>584.910</td>\n",
       "      <td>1.0</td>\n",
       "      <td>M_2</td>\n",
       "    </tr>\n",
       "    <tr>\n",
       "      <th>5</th>\n",
       "      <td>12347.0</td>\n",
       "      <td>2011-12-31</td>\n",
       "      <td>1294.32</td>\n",
       "      <td>1294.320</td>\n",
       "      <td>1.0</td>\n",
       "      <td>M_1</td>\n",
       "    </tr>\n",
       "    <tr>\n",
       "      <th>6</th>\n",
       "      <td>12348.0</td>\n",
       "      <td>2010-12-31</td>\n",
       "      <td>892.80</td>\n",
       "      <td>892.800</td>\n",
       "      <td>1.0</td>\n",
       "      <td>M_5</td>\n",
       "    </tr>\n",
       "    <tr>\n",
       "      <th>7</th>\n",
       "      <td>12348.0</td>\n",
       "      <td>2011-03-31</td>\n",
       "      <td>227.44</td>\n",
       "      <td>227.440</td>\n",
       "      <td>1.0</td>\n",
       "      <td>M_4</td>\n",
       "    </tr>\n",
       "    <tr>\n",
       "      <th>8</th>\n",
       "      <td>12348.0</td>\n",
       "      <td>2011-06-30</td>\n",
       "      <td>367.00</td>\n",
       "      <td>367.000</td>\n",
       "      <td>1.0</td>\n",
       "      <td>M_3</td>\n",
       "    </tr>\n",
       "    <tr>\n",
       "      <th>9</th>\n",
       "      <td>12348.0</td>\n",
       "      <td>2011-09-30</td>\n",
       "      <td>310.00</td>\n",
       "      <td>310.000</td>\n",
       "      <td>1.0</td>\n",
       "      <td>M_2</td>\n",
       "    </tr>\n",
       "  </tbody>\n",
       "</table>\n",
       "</div>"
      ],
      "text/plain": [
       "   CustomerID InvoiceDate  sales_sum  sales_avg  sales_count    M\n",
       "0     12346.0  2011-03-31   77183.60  77183.600          1.0  M_4\n",
       "1     12347.0  2010-12-31     711.79    711.790          1.0  M_5\n",
       "2     12347.0  2011-03-31     475.39    475.390          1.0  M_4\n",
       "3     12347.0  2011-06-30    1018.77    509.385          2.0  M_3\n",
       "4     12347.0  2011-09-30     584.91    584.910          1.0  M_2\n",
       "5     12347.0  2011-12-31    1294.32   1294.320          1.0  M_1\n",
       "6     12348.0  2010-12-31     892.80    892.800          1.0  M_5\n",
       "7     12348.0  2011-03-31     227.44    227.440          1.0  M_4\n",
       "8     12348.0  2011-06-30     367.00    367.000          1.0  M_3\n",
       "9     12348.0  2011-09-30     310.00    310.000          1.0  M_2"
      ]
     },
     "execution_count": 47,
     "metadata": {},
     "output_type": "execute_result"
    }
   ],
   "source": [
    "data_df.head(10)"
   ]
  },
  {
   "cell_type": "markdown",
   "metadata": {},
   "source": [
    "#### - Building Sample Set"
   ]
  },
  {
   "cell_type": "code",
   "execution_count": 48,
   "metadata": {},
   "outputs": [],
   "source": [
    "features_df = pd.pivot_table(\n",
    "    data_df.loc[data_df['M'] != 'M_1'], \n",
    "    values=['sales_sum', 'sales_avg', 'sales_count'], \n",
    "    columns='M', \n",
    "    index='CustomerID'\n",
    ")"
   ]
  },
  {
   "cell_type": "code",
   "execution_count": 49,
   "metadata": {},
   "outputs": [],
   "source": [
    "features_df.columns = ['_'.join(col) for col in features_df.columns]"
   ]
  },
  {
   "cell_type": "code",
   "execution_count": 50,
   "metadata": {},
   "outputs": [
    {
     "data": {
      "text/plain": [
       "(3616, 12)"
      ]
     },
     "execution_count": 50,
     "metadata": {},
     "output_type": "execute_result"
    }
   ],
   "source": [
    "features_df.shape"
   ]
  },
  {
   "cell_type": "code",
   "execution_count": 51,
   "metadata": {},
   "outputs": [
    {
     "data": {
      "text/html": [
       "<div>\n",
       "<style scoped>\n",
       "    .dataframe tbody tr th:only-of-type {\n",
       "        vertical-align: middle;\n",
       "    }\n",
       "\n",
       "    .dataframe tbody tr th {\n",
       "        vertical-align: top;\n",
       "    }\n",
       "\n",
       "    .dataframe thead th {\n",
       "        text-align: right;\n",
       "    }\n",
       "</style>\n",
       "<table border=\"1\" class=\"dataframe\">\n",
       "  <thead>\n",
       "    <tr style=\"text-align: right;\">\n",
       "      <th></th>\n",
       "      <th>sales_avg_M_2</th>\n",
       "      <th>sales_avg_M_3</th>\n",
       "      <th>sales_avg_M_4</th>\n",
       "      <th>sales_avg_M_5</th>\n",
       "      <th>sales_count_M_2</th>\n",
       "      <th>sales_count_M_3</th>\n",
       "      <th>sales_count_M_4</th>\n",
       "      <th>sales_count_M_5</th>\n",
       "      <th>sales_sum_M_2</th>\n",
       "      <th>sales_sum_M_3</th>\n",
       "      <th>sales_sum_M_4</th>\n",
       "      <th>sales_sum_M_5</th>\n",
       "    </tr>\n",
       "    <tr>\n",
       "      <th>CustomerID</th>\n",
       "      <th></th>\n",
       "      <th></th>\n",
       "      <th></th>\n",
       "      <th></th>\n",
       "      <th></th>\n",
       "      <th></th>\n",
       "      <th></th>\n",
       "      <th></th>\n",
       "      <th></th>\n",
       "      <th></th>\n",
       "      <th></th>\n",
       "      <th></th>\n",
       "    </tr>\n",
       "  </thead>\n",
       "  <tbody>\n",
       "    <tr>\n",
       "      <th>12346.0</th>\n",
       "      <td>NaN</td>\n",
       "      <td>NaN</td>\n",
       "      <td>77183.600</td>\n",
       "      <td>NaN</td>\n",
       "      <td>NaN</td>\n",
       "      <td>NaN</td>\n",
       "      <td>1.0</td>\n",
       "      <td>NaN</td>\n",
       "      <td>NaN</td>\n",
       "      <td>NaN</td>\n",
       "      <td>77183.60</td>\n",
       "      <td>NaN</td>\n",
       "    </tr>\n",
       "    <tr>\n",
       "      <th>12347.0</th>\n",
       "      <td>584.91</td>\n",
       "      <td>509.385</td>\n",
       "      <td>475.390</td>\n",
       "      <td>711.79</td>\n",
       "      <td>1.0</td>\n",
       "      <td>2.0</td>\n",
       "      <td>1.0</td>\n",
       "      <td>1.0</td>\n",
       "      <td>584.91</td>\n",
       "      <td>1018.77</td>\n",
       "      <td>475.39</td>\n",
       "      <td>711.79</td>\n",
       "    </tr>\n",
       "    <tr>\n",
       "      <th>12348.0</th>\n",
       "      <td>310.00</td>\n",
       "      <td>367.000</td>\n",
       "      <td>227.440</td>\n",
       "      <td>892.80</td>\n",
       "      <td>1.0</td>\n",
       "      <td>1.0</td>\n",
       "      <td>1.0</td>\n",
       "      <td>1.0</td>\n",
       "      <td>310.00</td>\n",
       "      <td>367.00</td>\n",
       "      <td>227.44</td>\n",
       "      <td>892.80</td>\n",
       "    </tr>\n",
       "    <tr>\n",
       "      <th>12350.0</th>\n",
       "      <td>NaN</td>\n",
       "      <td>NaN</td>\n",
       "      <td>334.400</td>\n",
       "      <td>NaN</td>\n",
       "      <td>NaN</td>\n",
       "      <td>NaN</td>\n",
       "      <td>1.0</td>\n",
       "      <td>NaN</td>\n",
       "      <td>NaN</td>\n",
       "      <td>NaN</td>\n",
       "      <td>334.40</td>\n",
       "      <td>NaN</td>\n",
       "    </tr>\n",
       "    <tr>\n",
       "      <th>12352.0</th>\n",
       "      <td>316.25</td>\n",
       "      <td>NaN</td>\n",
       "      <td>312.362</td>\n",
       "      <td>NaN</td>\n",
       "      <td>2.0</td>\n",
       "      <td>NaN</td>\n",
       "      <td>5.0</td>\n",
       "      <td>NaN</td>\n",
       "      <td>632.50</td>\n",
       "      <td>NaN</td>\n",
       "      <td>1561.81</td>\n",
       "      <td>NaN</td>\n",
       "    </tr>\n",
       "    <tr>\n",
       "      <th>12353.0</th>\n",
       "      <td>NaN</td>\n",
       "      <td>89.000</td>\n",
       "      <td>NaN</td>\n",
       "      <td>NaN</td>\n",
       "      <td>NaN</td>\n",
       "      <td>1.0</td>\n",
       "      <td>NaN</td>\n",
       "      <td>NaN</td>\n",
       "      <td>NaN</td>\n",
       "      <td>89.00</td>\n",
       "      <td>NaN</td>\n",
       "      <td>NaN</td>\n",
       "    </tr>\n",
       "    <tr>\n",
       "      <th>12354.0</th>\n",
       "      <td>NaN</td>\n",
       "      <td>1079.400</td>\n",
       "      <td>NaN</td>\n",
       "      <td>NaN</td>\n",
       "      <td>NaN</td>\n",
       "      <td>1.0</td>\n",
       "      <td>NaN</td>\n",
       "      <td>NaN</td>\n",
       "      <td>NaN</td>\n",
       "      <td>1079.40</td>\n",
       "      <td>NaN</td>\n",
       "      <td>NaN</td>\n",
       "    </tr>\n",
       "    <tr>\n",
       "      <th>12355.0</th>\n",
       "      <td>NaN</td>\n",
       "      <td>459.400</td>\n",
       "      <td>NaN</td>\n",
       "      <td>NaN</td>\n",
       "      <td>NaN</td>\n",
       "      <td>1.0</td>\n",
       "      <td>NaN</td>\n",
       "      <td>NaN</td>\n",
       "      <td>NaN</td>\n",
       "      <td>459.40</td>\n",
       "      <td>NaN</td>\n",
       "      <td>NaN</td>\n",
       "    </tr>\n",
       "    <tr>\n",
       "      <th>12356.0</th>\n",
       "      <td>NaN</td>\n",
       "      <td>481.460</td>\n",
       "      <td>2271.620</td>\n",
       "      <td>NaN</td>\n",
       "      <td>NaN</td>\n",
       "      <td>1.0</td>\n",
       "      <td>1.0</td>\n",
       "      <td>NaN</td>\n",
       "      <td>NaN</td>\n",
       "      <td>481.46</td>\n",
       "      <td>2271.62</td>\n",
       "      <td>NaN</td>\n",
       "    </tr>\n",
       "    <tr>\n",
       "      <th>12358.0</th>\n",
       "      <td>484.86</td>\n",
       "      <td>NaN</td>\n",
       "      <td>NaN</td>\n",
       "      <td>NaN</td>\n",
       "      <td>1.0</td>\n",
       "      <td>NaN</td>\n",
       "      <td>NaN</td>\n",
       "      <td>NaN</td>\n",
       "      <td>484.86</td>\n",
       "      <td>NaN</td>\n",
       "      <td>NaN</td>\n",
       "      <td>NaN</td>\n",
       "    </tr>\n",
       "  </tbody>\n",
       "</table>\n",
       "</div>"
      ],
      "text/plain": [
       "            sales_avg_M_2  sales_avg_M_3  sales_avg_M_4  sales_avg_M_5  \\\n",
       "CustomerID                                                               \n",
       "12346.0               NaN            NaN      77183.600            NaN   \n",
       "12347.0            584.91        509.385        475.390         711.79   \n",
       "12348.0            310.00        367.000        227.440         892.80   \n",
       "12350.0               NaN            NaN        334.400            NaN   \n",
       "12352.0            316.25            NaN        312.362            NaN   \n",
       "12353.0               NaN         89.000            NaN            NaN   \n",
       "12354.0               NaN       1079.400            NaN            NaN   \n",
       "12355.0               NaN        459.400            NaN            NaN   \n",
       "12356.0               NaN        481.460       2271.620            NaN   \n",
       "12358.0            484.86            NaN            NaN            NaN   \n",
       "\n",
       "            sales_count_M_2  sales_count_M_3  sales_count_M_4  \\\n",
       "CustomerID                                                      \n",
       "12346.0                 NaN              NaN              1.0   \n",
       "12347.0                 1.0              2.0              1.0   \n",
       "12348.0                 1.0              1.0              1.0   \n",
       "12350.0                 NaN              NaN              1.0   \n",
       "12352.0                 2.0              NaN              5.0   \n",
       "12353.0                 NaN              1.0              NaN   \n",
       "12354.0                 NaN              1.0              NaN   \n",
       "12355.0                 NaN              1.0              NaN   \n",
       "12356.0                 NaN              1.0              1.0   \n",
       "12358.0                 1.0              NaN              NaN   \n",
       "\n",
       "            sales_count_M_5  sales_sum_M_2  sales_sum_M_3  sales_sum_M_4  \\\n",
       "CustomerID                                                                 \n",
       "12346.0                 NaN            NaN            NaN       77183.60   \n",
       "12347.0                 1.0         584.91        1018.77         475.39   \n",
       "12348.0                 1.0         310.00         367.00         227.44   \n",
       "12350.0                 NaN            NaN            NaN         334.40   \n",
       "12352.0                 NaN         632.50            NaN        1561.81   \n",
       "12353.0                 NaN            NaN          89.00            NaN   \n",
       "12354.0                 NaN            NaN        1079.40            NaN   \n",
       "12355.0                 NaN            NaN         459.40            NaN   \n",
       "12356.0                 NaN            NaN         481.46        2271.62   \n",
       "12358.0                 NaN         484.86            NaN            NaN   \n",
       "\n",
       "            sales_sum_M_5  \n",
       "CustomerID                 \n",
       "12346.0               NaN  \n",
       "12347.0            711.79  \n",
       "12348.0            892.80  \n",
       "12350.0               NaN  \n",
       "12352.0               NaN  \n",
       "12353.0               NaN  \n",
       "12354.0               NaN  \n",
       "12355.0               NaN  \n",
       "12356.0               NaN  \n",
       "12358.0               NaN  "
      ]
     },
     "execution_count": 51,
     "metadata": {},
     "output_type": "execute_result"
    }
   ],
   "source": [
    "features_df.head(10)"
   ]
  },
  {
   "cell_type": "code",
   "execution_count": 52,
   "metadata": {},
   "outputs": [],
   "source": [
    "features_df = features_df.fillna(0)"
   ]
  },
  {
   "cell_type": "code",
   "execution_count": 53,
   "metadata": {},
   "outputs": [
    {
     "data": {
      "text/html": [
       "<div>\n",
       "<style scoped>\n",
       "    .dataframe tbody tr th:only-of-type {\n",
       "        vertical-align: middle;\n",
       "    }\n",
       "\n",
       "    .dataframe tbody tr th {\n",
       "        vertical-align: top;\n",
       "    }\n",
       "\n",
       "    .dataframe thead th {\n",
       "        text-align: right;\n",
       "    }\n",
       "</style>\n",
       "<table border=\"1\" class=\"dataframe\">\n",
       "  <thead>\n",
       "    <tr style=\"text-align: right;\">\n",
       "      <th></th>\n",
       "      <th>sales_avg_M_2</th>\n",
       "      <th>sales_avg_M_3</th>\n",
       "      <th>sales_avg_M_4</th>\n",
       "      <th>sales_avg_M_5</th>\n",
       "      <th>sales_count_M_2</th>\n",
       "      <th>sales_count_M_3</th>\n",
       "      <th>sales_count_M_4</th>\n",
       "      <th>sales_count_M_5</th>\n",
       "      <th>sales_sum_M_2</th>\n",
       "      <th>sales_sum_M_3</th>\n",
       "      <th>sales_sum_M_4</th>\n",
       "      <th>sales_sum_M_5</th>\n",
       "    </tr>\n",
       "    <tr>\n",
       "      <th>CustomerID</th>\n",
       "      <th></th>\n",
       "      <th></th>\n",
       "      <th></th>\n",
       "      <th></th>\n",
       "      <th></th>\n",
       "      <th></th>\n",
       "      <th></th>\n",
       "      <th></th>\n",
       "      <th></th>\n",
       "      <th></th>\n",
       "      <th></th>\n",
       "      <th></th>\n",
       "    </tr>\n",
       "  </thead>\n",
       "  <tbody>\n",
       "    <tr>\n",
       "      <th>12346.0</th>\n",
       "      <td>0.00</td>\n",
       "      <td>0.000</td>\n",
       "      <td>77183.600</td>\n",
       "      <td>0.00</td>\n",
       "      <td>0.0</td>\n",
       "      <td>0.0</td>\n",
       "      <td>1.0</td>\n",
       "      <td>0.0</td>\n",
       "      <td>0.00</td>\n",
       "      <td>0.00</td>\n",
       "      <td>77183.60</td>\n",
       "      <td>0.00</td>\n",
       "    </tr>\n",
       "    <tr>\n",
       "      <th>12347.0</th>\n",
       "      <td>584.91</td>\n",
       "      <td>509.385</td>\n",
       "      <td>475.390</td>\n",
       "      <td>711.79</td>\n",
       "      <td>1.0</td>\n",
       "      <td>2.0</td>\n",
       "      <td>1.0</td>\n",
       "      <td>1.0</td>\n",
       "      <td>584.91</td>\n",
       "      <td>1018.77</td>\n",
       "      <td>475.39</td>\n",
       "      <td>711.79</td>\n",
       "    </tr>\n",
       "    <tr>\n",
       "      <th>12348.0</th>\n",
       "      <td>310.00</td>\n",
       "      <td>367.000</td>\n",
       "      <td>227.440</td>\n",
       "      <td>892.80</td>\n",
       "      <td>1.0</td>\n",
       "      <td>1.0</td>\n",
       "      <td>1.0</td>\n",
       "      <td>1.0</td>\n",
       "      <td>310.00</td>\n",
       "      <td>367.00</td>\n",
       "      <td>227.44</td>\n",
       "      <td>892.80</td>\n",
       "    </tr>\n",
       "    <tr>\n",
       "      <th>12350.0</th>\n",
       "      <td>0.00</td>\n",
       "      <td>0.000</td>\n",
       "      <td>334.400</td>\n",
       "      <td>0.00</td>\n",
       "      <td>0.0</td>\n",
       "      <td>0.0</td>\n",
       "      <td>1.0</td>\n",
       "      <td>0.0</td>\n",
       "      <td>0.00</td>\n",
       "      <td>0.00</td>\n",
       "      <td>334.40</td>\n",
       "      <td>0.00</td>\n",
       "    </tr>\n",
       "    <tr>\n",
       "      <th>12352.0</th>\n",
       "      <td>316.25</td>\n",
       "      <td>0.000</td>\n",
       "      <td>312.362</td>\n",
       "      <td>0.00</td>\n",
       "      <td>2.0</td>\n",
       "      <td>0.0</td>\n",
       "      <td>5.0</td>\n",
       "      <td>0.0</td>\n",
       "      <td>632.50</td>\n",
       "      <td>0.00</td>\n",
       "      <td>1561.81</td>\n",
       "      <td>0.00</td>\n",
       "    </tr>\n",
       "  </tbody>\n",
       "</table>\n",
       "</div>"
      ],
      "text/plain": [
       "            sales_avg_M_2  sales_avg_M_3  sales_avg_M_4  sales_avg_M_5  \\\n",
       "CustomerID                                                               \n",
       "12346.0              0.00          0.000      77183.600           0.00   \n",
       "12347.0            584.91        509.385        475.390         711.79   \n",
       "12348.0            310.00        367.000        227.440         892.80   \n",
       "12350.0              0.00          0.000        334.400           0.00   \n",
       "12352.0            316.25          0.000        312.362           0.00   \n",
       "\n",
       "            sales_count_M_2  sales_count_M_3  sales_count_M_4  \\\n",
       "CustomerID                                                      \n",
       "12346.0                 0.0              0.0              1.0   \n",
       "12347.0                 1.0              2.0              1.0   \n",
       "12348.0                 1.0              1.0              1.0   \n",
       "12350.0                 0.0              0.0              1.0   \n",
       "12352.0                 2.0              0.0              5.0   \n",
       "\n",
       "            sales_count_M_5  sales_sum_M_2  sales_sum_M_3  sales_sum_M_4  \\\n",
       "CustomerID                                                                 \n",
       "12346.0                 0.0           0.00           0.00       77183.60   \n",
       "12347.0                 1.0         584.91        1018.77         475.39   \n",
       "12348.0                 1.0         310.00         367.00         227.44   \n",
       "12350.0                 0.0           0.00           0.00         334.40   \n",
       "12352.0                 0.0         632.50           0.00        1561.81   \n",
       "\n",
       "            sales_sum_M_5  \n",
       "CustomerID                 \n",
       "12346.0              0.00  \n",
       "12347.0            711.79  \n",
       "12348.0            892.80  \n",
       "12350.0              0.00  \n",
       "12352.0              0.00  "
      ]
     },
     "execution_count": 53,
     "metadata": {},
     "output_type": "execute_result"
    }
   ],
   "source": [
    "features_df.head()"
   ]
  },
  {
   "cell_type": "code",
   "execution_count": 54,
   "metadata": {},
   "outputs": [],
   "source": [
    "response_df = data_df.loc[\n",
    "    data_df['M'] == 'M_1',\n",
    "    ['CustomerID', 'sales_sum']\n",
    "]"
   ]
  },
  {
   "cell_type": "code",
   "execution_count": 55,
   "metadata": {},
   "outputs": [],
   "source": [
    "response_df.columns = ['CustomerID', 'CLV_'+clv_freq]"
   ]
  },
  {
   "cell_type": "code",
   "execution_count": 56,
   "metadata": {},
   "outputs": [
    {
     "data": {
      "text/plain": [
       "(2407, 2)"
      ]
     },
     "execution_count": 56,
     "metadata": {},
     "output_type": "execute_result"
    }
   ],
   "source": [
    "response_df.shape"
   ]
  },
  {
   "cell_type": "code",
   "execution_count": 57,
   "metadata": {
    "scrolled": true
   },
   "outputs": [
    {
     "data": {
      "text/html": [
       "<div>\n",
       "<style scoped>\n",
       "    .dataframe tbody tr th:only-of-type {\n",
       "        vertical-align: middle;\n",
       "    }\n",
       "\n",
       "    .dataframe tbody tr th {\n",
       "        vertical-align: top;\n",
       "    }\n",
       "\n",
       "    .dataframe thead th {\n",
       "        text-align: right;\n",
       "    }\n",
       "</style>\n",
       "<table border=\"1\" class=\"dataframe\">\n",
       "  <thead>\n",
       "    <tr style=\"text-align: right;\">\n",
       "      <th></th>\n",
       "      <th>CustomerID</th>\n",
       "      <th>CLV_3M</th>\n",
       "    </tr>\n",
       "  </thead>\n",
       "  <tbody>\n",
       "    <tr>\n",
       "      <th>5</th>\n",
       "      <td>12347.0</td>\n",
       "      <td>1294.32</td>\n",
       "    </tr>\n",
       "    <tr>\n",
       "      <th>10</th>\n",
       "      <td>12349.0</td>\n",
       "      <td>1757.55</td>\n",
       "    </tr>\n",
       "    <tr>\n",
       "      <th>14</th>\n",
       "      <td>12352.0</td>\n",
       "      <td>311.73</td>\n",
       "    </tr>\n",
       "    <tr>\n",
       "      <th>20</th>\n",
       "      <td>12356.0</td>\n",
       "      <td>58.35</td>\n",
       "    </tr>\n",
       "    <tr>\n",
       "      <th>21</th>\n",
       "      <td>12357.0</td>\n",
       "      <td>6207.67</td>\n",
       "    </tr>\n",
       "    <tr>\n",
       "      <th>25</th>\n",
       "      <td>12359.0</td>\n",
       "      <td>2876.85</td>\n",
       "    </tr>\n",
       "    <tr>\n",
       "      <th>28</th>\n",
       "      <td>12360.0</td>\n",
       "      <td>1043.78</td>\n",
       "    </tr>\n",
       "    <tr>\n",
       "      <th>33</th>\n",
       "      <td>12362.0</td>\n",
       "      <td>2119.85</td>\n",
       "    </tr>\n",
       "    <tr>\n",
       "      <th>37</th>\n",
       "      <td>12364.0</td>\n",
       "      <td>299.06</td>\n",
       "    </tr>\n",
       "    <tr>\n",
       "      <th>41</th>\n",
       "      <td>12370.0</td>\n",
       "      <td>739.28</td>\n",
       "    </tr>\n",
       "  </tbody>\n",
       "</table>\n",
       "</div>"
      ],
      "text/plain": [
       "    CustomerID   CLV_3M\n",
       "5      12347.0  1294.32\n",
       "10     12349.0  1757.55\n",
       "14     12352.0   311.73\n",
       "20     12356.0    58.35\n",
       "21     12357.0  6207.67\n",
       "25     12359.0  2876.85\n",
       "28     12360.0  1043.78\n",
       "33     12362.0  2119.85\n",
       "37     12364.0   299.06\n",
       "41     12370.0   739.28"
      ]
     },
     "execution_count": 57,
     "metadata": {},
     "output_type": "execute_result"
    }
   ],
   "source": [
    "response_df.head(10)"
   ]
  },
  {
   "cell_type": "code",
   "execution_count": 58,
   "metadata": {},
   "outputs": [],
   "source": [
    "sample_set_df = features_df.merge(\n",
    "    response_df, \n",
    "    left_index=True, \n",
    "    right_on='CustomerID',\n",
    "    how='left'\n",
    ")"
   ]
  },
  {
   "cell_type": "code",
   "execution_count": 59,
   "metadata": {},
   "outputs": [
    {
     "data": {
      "text/plain": [
       "(3616, 14)"
      ]
     },
     "execution_count": 59,
     "metadata": {},
     "output_type": "execute_result"
    }
   ],
   "source": [
    "sample_set_df.shape"
   ]
  },
  {
   "cell_type": "code",
   "execution_count": 60,
   "metadata": {},
   "outputs": [
    {
     "data": {
      "text/html": [
       "<div>\n",
       "<style scoped>\n",
       "    .dataframe tbody tr th:only-of-type {\n",
       "        vertical-align: middle;\n",
       "    }\n",
       "\n",
       "    .dataframe tbody tr th {\n",
       "        vertical-align: top;\n",
       "    }\n",
       "\n",
       "    .dataframe thead th {\n",
       "        text-align: right;\n",
       "    }\n",
       "</style>\n",
       "<table border=\"1\" class=\"dataframe\">\n",
       "  <thead>\n",
       "    <tr style=\"text-align: right;\">\n",
       "      <th></th>\n",
       "      <th>sales_avg_M_2</th>\n",
       "      <th>sales_avg_M_3</th>\n",
       "      <th>sales_avg_M_4</th>\n",
       "      <th>sales_avg_M_5</th>\n",
       "      <th>sales_count_M_2</th>\n",
       "      <th>sales_count_M_3</th>\n",
       "      <th>sales_count_M_4</th>\n",
       "      <th>sales_count_M_5</th>\n",
       "      <th>sales_sum_M_2</th>\n",
       "      <th>sales_sum_M_3</th>\n",
       "      <th>sales_sum_M_4</th>\n",
       "      <th>sales_sum_M_5</th>\n",
       "      <th>CustomerID</th>\n",
       "      <th>CLV_3M</th>\n",
       "    </tr>\n",
       "  </thead>\n",
       "  <tbody>\n",
       "    <tr>\n",
       "      <th>NaN</th>\n",
       "      <td>0.00</td>\n",
       "      <td>0.000</td>\n",
       "      <td>77183.600</td>\n",
       "      <td>0.00</td>\n",
       "      <td>0.0</td>\n",
       "      <td>0.0</td>\n",
       "      <td>1.0</td>\n",
       "      <td>0.0</td>\n",
       "      <td>0.00</td>\n",
       "      <td>0.00</td>\n",
       "      <td>77183.60</td>\n",
       "      <td>0.00</td>\n",
       "      <td>12346.0</td>\n",
       "      <td>NaN</td>\n",
       "    </tr>\n",
       "    <tr>\n",
       "      <th>5.0</th>\n",
       "      <td>584.91</td>\n",
       "      <td>509.385</td>\n",
       "      <td>475.390</td>\n",
       "      <td>711.79</td>\n",
       "      <td>1.0</td>\n",
       "      <td>2.0</td>\n",
       "      <td>1.0</td>\n",
       "      <td>1.0</td>\n",
       "      <td>584.91</td>\n",
       "      <td>1018.77</td>\n",
       "      <td>475.39</td>\n",
       "      <td>711.79</td>\n",
       "      <td>12347.0</td>\n",
       "      <td>1294.32</td>\n",
       "    </tr>\n",
       "    <tr>\n",
       "      <th>NaN</th>\n",
       "      <td>310.00</td>\n",
       "      <td>367.000</td>\n",
       "      <td>227.440</td>\n",
       "      <td>892.80</td>\n",
       "      <td>1.0</td>\n",
       "      <td>1.0</td>\n",
       "      <td>1.0</td>\n",
       "      <td>1.0</td>\n",
       "      <td>310.00</td>\n",
       "      <td>367.00</td>\n",
       "      <td>227.44</td>\n",
       "      <td>892.80</td>\n",
       "      <td>12348.0</td>\n",
       "      <td>NaN</td>\n",
       "    </tr>\n",
       "    <tr>\n",
       "      <th>NaN</th>\n",
       "      <td>0.00</td>\n",
       "      <td>0.000</td>\n",
       "      <td>334.400</td>\n",
       "      <td>0.00</td>\n",
       "      <td>0.0</td>\n",
       "      <td>0.0</td>\n",
       "      <td>1.0</td>\n",
       "      <td>0.0</td>\n",
       "      <td>0.00</td>\n",
       "      <td>0.00</td>\n",
       "      <td>334.40</td>\n",
       "      <td>0.00</td>\n",
       "      <td>12350.0</td>\n",
       "      <td>NaN</td>\n",
       "    </tr>\n",
       "    <tr>\n",
       "      <th>14.0</th>\n",
       "      <td>316.25</td>\n",
       "      <td>0.000</td>\n",
       "      <td>312.362</td>\n",
       "      <td>0.00</td>\n",
       "      <td>2.0</td>\n",
       "      <td>0.0</td>\n",
       "      <td>5.0</td>\n",
       "      <td>0.0</td>\n",
       "      <td>632.50</td>\n",
       "      <td>0.00</td>\n",
       "      <td>1561.81</td>\n",
       "      <td>0.00</td>\n",
       "      <td>12352.0</td>\n",
       "      <td>311.73</td>\n",
       "    </tr>\n",
       "    <tr>\n",
       "      <th>NaN</th>\n",
       "      <td>0.00</td>\n",
       "      <td>89.000</td>\n",
       "      <td>0.000</td>\n",
       "      <td>0.00</td>\n",
       "      <td>0.0</td>\n",
       "      <td>1.0</td>\n",
       "      <td>0.0</td>\n",
       "      <td>0.0</td>\n",
       "      <td>0.00</td>\n",
       "      <td>89.00</td>\n",
       "      <td>0.00</td>\n",
       "      <td>0.00</td>\n",
       "      <td>12353.0</td>\n",
       "      <td>NaN</td>\n",
       "    </tr>\n",
       "    <tr>\n",
       "      <th>NaN</th>\n",
       "      <td>0.00</td>\n",
       "      <td>1079.400</td>\n",
       "      <td>0.000</td>\n",
       "      <td>0.00</td>\n",
       "      <td>0.0</td>\n",
       "      <td>1.0</td>\n",
       "      <td>0.0</td>\n",
       "      <td>0.0</td>\n",
       "      <td>0.00</td>\n",
       "      <td>1079.40</td>\n",
       "      <td>0.00</td>\n",
       "      <td>0.00</td>\n",
       "      <td>12354.0</td>\n",
       "      <td>NaN</td>\n",
       "    </tr>\n",
       "    <tr>\n",
       "      <th>NaN</th>\n",
       "      <td>0.00</td>\n",
       "      <td>459.400</td>\n",
       "      <td>0.000</td>\n",
       "      <td>0.00</td>\n",
       "      <td>0.0</td>\n",
       "      <td>1.0</td>\n",
       "      <td>0.0</td>\n",
       "      <td>0.0</td>\n",
       "      <td>0.00</td>\n",
       "      <td>459.40</td>\n",
       "      <td>0.00</td>\n",
       "      <td>0.00</td>\n",
       "      <td>12355.0</td>\n",
       "      <td>NaN</td>\n",
       "    </tr>\n",
       "    <tr>\n",
       "      <th>20.0</th>\n",
       "      <td>0.00</td>\n",
       "      <td>481.460</td>\n",
       "      <td>2271.620</td>\n",
       "      <td>0.00</td>\n",
       "      <td>0.0</td>\n",
       "      <td>1.0</td>\n",
       "      <td>1.0</td>\n",
       "      <td>0.0</td>\n",
       "      <td>0.00</td>\n",
       "      <td>481.46</td>\n",
       "      <td>2271.62</td>\n",
       "      <td>0.00</td>\n",
       "      <td>12356.0</td>\n",
       "      <td>58.35</td>\n",
       "    </tr>\n",
       "    <tr>\n",
       "      <th>NaN</th>\n",
       "      <td>484.86</td>\n",
       "      <td>0.000</td>\n",
       "      <td>0.000</td>\n",
       "      <td>0.00</td>\n",
       "      <td>1.0</td>\n",
       "      <td>0.0</td>\n",
       "      <td>0.0</td>\n",
       "      <td>0.0</td>\n",
       "      <td>484.86</td>\n",
       "      <td>0.00</td>\n",
       "      <td>0.00</td>\n",
       "      <td>0.00</td>\n",
       "      <td>12358.0</td>\n",
       "      <td>NaN</td>\n",
       "    </tr>\n",
       "  </tbody>\n",
       "</table>\n",
       "</div>"
      ],
      "text/plain": [
       "      sales_avg_M_2  sales_avg_M_3  sales_avg_M_4  sales_avg_M_5  \\\n",
       "NaN            0.00          0.000      77183.600           0.00   \n",
       "5.0          584.91        509.385        475.390         711.79   \n",
       "NaN          310.00        367.000        227.440         892.80   \n",
       "NaN            0.00          0.000        334.400           0.00   \n",
       "14.0         316.25          0.000        312.362           0.00   \n",
       "NaN            0.00         89.000          0.000           0.00   \n",
       "NaN            0.00       1079.400          0.000           0.00   \n",
       "NaN            0.00        459.400          0.000           0.00   \n",
       "20.0           0.00        481.460       2271.620           0.00   \n",
       "NaN          484.86          0.000          0.000           0.00   \n",
       "\n",
       "      sales_count_M_2  sales_count_M_3  sales_count_M_4  sales_count_M_5  \\\n",
       "NaN               0.0              0.0              1.0              0.0   \n",
       "5.0               1.0              2.0              1.0              1.0   \n",
       "NaN               1.0              1.0              1.0              1.0   \n",
       "NaN               0.0              0.0              1.0              0.0   \n",
       "14.0              2.0              0.0              5.0              0.0   \n",
       "NaN               0.0              1.0              0.0              0.0   \n",
       "NaN               0.0              1.0              0.0              0.0   \n",
       "NaN               0.0              1.0              0.0              0.0   \n",
       "20.0              0.0              1.0              1.0              0.0   \n",
       "NaN               1.0              0.0              0.0              0.0   \n",
       "\n",
       "      sales_sum_M_2  sales_sum_M_3  sales_sum_M_4  sales_sum_M_5  CustomerID  \\\n",
       "NaN            0.00           0.00       77183.60           0.00     12346.0   \n",
       "5.0          584.91        1018.77         475.39         711.79     12347.0   \n",
       "NaN          310.00         367.00         227.44         892.80     12348.0   \n",
       "NaN            0.00           0.00         334.40           0.00     12350.0   \n",
       "14.0         632.50           0.00        1561.81           0.00     12352.0   \n",
       "NaN            0.00          89.00           0.00           0.00     12353.0   \n",
       "NaN            0.00        1079.40           0.00           0.00     12354.0   \n",
       "NaN            0.00         459.40           0.00           0.00     12355.0   \n",
       "20.0           0.00         481.46        2271.62           0.00     12356.0   \n",
       "NaN          484.86           0.00           0.00           0.00     12358.0   \n",
       "\n",
       "       CLV_3M  \n",
       "NaN       NaN  \n",
       "5.0   1294.32  \n",
       "NaN       NaN  \n",
       "NaN       NaN  \n",
       "14.0   311.73  \n",
       "NaN       NaN  \n",
       "NaN       NaN  \n",
       "NaN       NaN  \n",
       "20.0    58.35  \n",
       "NaN       NaN  "
      ]
     },
     "execution_count": 60,
     "metadata": {},
     "output_type": "execute_result"
    }
   ],
   "source": [
    "sample_set_df.head(10)"
   ]
  },
  {
   "cell_type": "code",
   "execution_count": 61,
   "metadata": {},
   "outputs": [],
   "source": [
    "sample_set_df = sample_set_df.fillna(0)"
   ]
  },
  {
   "cell_type": "code",
   "execution_count": 62,
   "metadata": {},
   "outputs": [
    {
     "data": {
      "text/html": [
       "<div>\n",
       "<style scoped>\n",
       "    .dataframe tbody tr th:only-of-type {\n",
       "        vertical-align: middle;\n",
       "    }\n",
       "\n",
       "    .dataframe tbody tr th {\n",
       "        vertical-align: top;\n",
       "    }\n",
       "\n",
       "    .dataframe thead th {\n",
       "        text-align: right;\n",
       "    }\n",
       "</style>\n",
       "<table border=\"1\" class=\"dataframe\">\n",
       "  <thead>\n",
       "    <tr style=\"text-align: right;\">\n",
       "      <th></th>\n",
       "      <th>sales_avg_M_2</th>\n",
       "      <th>sales_avg_M_3</th>\n",
       "      <th>sales_avg_M_4</th>\n",
       "      <th>sales_avg_M_5</th>\n",
       "      <th>sales_count_M_2</th>\n",
       "      <th>sales_count_M_3</th>\n",
       "      <th>sales_count_M_4</th>\n",
       "      <th>sales_count_M_5</th>\n",
       "      <th>sales_sum_M_2</th>\n",
       "      <th>sales_sum_M_3</th>\n",
       "      <th>sales_sum_M_4</th>\n",
       "      <th>sales_sum_M_5</th>\n",
       "      <th>CustomerID</th>\n",
       "      <th>CLV_3M</th>\n",
       "    </tr>\n",
       "  </thead>\n",
       "  <tbody>\n",
       "    <tr>\n",
       "      <th>NaN</th>\n",
       "      <td>0.00</td>\n",
       "      <td>0.000</td>\n",
       "      <td>77183.600</td>\n",
       "      <td>0.00</td>\n",
       "      <td>0.0</td>\n",
       "      <td>0.0</td>\n",
       "      <td>1.0</td>\n",
       "      <td>0.0</td>\n",
       "      <td>0.00</td>\n",
       "      <td>0.00</td>\n",
       "      <td>77183.60</td>\n",
       "      <td>0.00</td>\n",
       "      <td>12346.0</td>\n",
       "      <td>0.00</td>\n",
       "    </tr>\n",
       "    <tr>\n",
       "      <th>5.0</th>\n",
       "      <td>584.91</td>\n",
       "      <td>509.385</td>\n",
       "      <td>475.390</td>\n",
       "      <td>711.79</td>\n",
       "      <td>1.0</td>\n",
       "      <td>2.0</td>\n",
       "      <td>1.0</td>\n",
       "      <td>1.0</td>\n",
       "      <td>584.91</td>\n",
       "      <td>1018.77</td>\n",
       "      <td>475.39</td>\n",
       "      <td>711.79</td>\n",
       "      <td>12347.0</td>\n",
       "      <td>1294.32</td>\n",
       "    </tr>\n",
       "    <tr>\n",
       "      <th>NaN</th>\n",
       "      <td>310.00</td>\n",
       "      <td>367.000</td>\n",
       "      <td>227.440</td>\n",
       "      <td>892.80</td>\n",
       "      <td>1.0</td>\n",
       "      <td>1.0</td>\n",
       "      <td>1.0</td>\n",
       "      <td>1.0</td>\n",
       "      <td>310.00</td>\n",
       "      <td>367.00</td>\n",
       "      <td>227.44</td>\n",
       "      <td>892.80</td>\n",
       "      <td>12348.0</td>\n",
       "      <td>0.00</td>\n",
       "    </tr>\n",
       "    <tr>\n",
       "      <th>NaN</th>\n",
       "      <td>0.00</td>\n",
       "      <td>0.000</td>\n",
       "      <td>334.400</td>\n",
       "      <td>0.00</td>\n",
       "      <td>0.0</td>\n",
       "      <td>0.0</td>\n",
       "      <td>1.0</td>\n",
       "      <td>0.0</td>\n",
       "      <td>0.00</td>\n",
       "      <td>0.00</td>\n",
       "      <td>334.40</td>\n",
       "      <td>0.00</td>\n",
       "      <td>12350.0</td>\n",
       "      <td>0.00</td>\n",
       "    </tr>\n",
       "    <tr>\n",
       "      <th>14.0</th>\n",
       "      <td>316.25</td>\n",
       "      <td>0.000</td>\n",
       "      <td>312.362</td>\n",
       "      <td>0.00</td>\n",
       "      <td>2.0</td>\n",
       "      <td>0.0</td>\n",
       "      <td>5.0</td>\n",
       "      <td>0.0</td>\n",
       "      <td>632.50</td>\n",
       "      <td>0.00</td>\n",
       "      <td>1561.81</td>\n",
       "      <td>0.00</td>\n",
       "      <td>12352.0</td>\n",
       "      <td>311.73</td>\n",
       "    </tr>\n",
       "  </tbody>\n",
       "</table>\n",
       "</div>"
      ],
      "text/plain": [
       "      sales_avg_M_2  sales_avg_M_3  sales_avg_M_4  sales_avg_M_5  \\\n",
       "NaN            0.00          0.000      77183.600           0.00   \n",
       "5.0          584.91        509.385        475.390         711.79   \n",
       "NaN          310.00        367.000        227.440         892.80   \n",
       "NaN            0.00          0.000        334.400           0.00   \n",
       "14.0         316.25          0.000        312.362           0.00   \n",
       "\n",
       "      sales_count_M_2  sales_count_M_3  sales_count_M_4  sales_count_M_5  \\\n",
       "NaN               0.0              0.0              1.0              0.0   \n",
       "5.0               1.0              2.0              1.0              1.0   \n",
       "NaN               1.0              1.0              1.0              1.0   \n",
       "NaN               0.0              0.0              1.0              0.0   \n",
       "14.0              2.0              0.0              5.0              0.0   \n",
       "\n",
       "      sales_sum_M_2  sales_sum_M_3  sales_sum_M_4  sales_sum_M_5  CustomerID  \\\n",
       "NaN            0.00           0.00       77183.60           0.00     12346.0   \n",
       "5.0          584.91        1018.77         475.39         711.79     12347.0   \n",
       "NaN          310.00         367.00         227.44         892.80     12348.0   \n",
       "NaN            0.00           0.00         334.40           0.00     12350.0   \n",
       "14.0         632.50           0.00        1561.81           0.00     12352.0   \n",
       "\n",
       "       CLV_3M  \n",
       "NaN      0.00  \n",
       "5.0   1294.32  \n",
       "NaN      0.00  \n",
       "NaN      0.00  \n",
       "14.0   311.73  "
      ]
     },
     "execution_count": 62,
     "metadata": {},
     "output_type": "execute_result"
    }
   ],
   "source": [
    "sample_set_df.head()"
   ]
  },
  {
   "cell_type": "code",
   "execution_count": 63,
   "metadata": {},
   "outputs": [
    {
     "data": {
      "text/plain": [
       "count     3616.000000\n",
       "mean       511.558520\n",
       "std       2371.743293\n",
       "min          0.000000\n",
       "25%          0.000000\n",
       "50%          0.000000\n",
       "75%        458.662500\n",
       "max      68012.350000\n",
       "Name: CLV_3M, dtype: float64"
      ]
     },
     "execution_count": 63,
     "metadata": {},
     "output_type": "execute_result"
    }
   ],
   "source": [
    "sample_set_df['CLV_'+clv_freq].describe()"
   ]
  },
  {
   "cell_type": "markdown",
   "metadata": {},
   "source": [
    "### 4.2. Regression Models"
   ]
  },
  {
   "cell_type": "code",
   "execution_count": 64,
   "metadata": {},
   "outputs": [],
   "source": [
    "from sklearn.model_selection import train_test_split"
   ]
  },
  {
   "cell_type": "code",
   "execution_count": 65,
   "metadata": {},
   "outputs": [],
   "source": [
    "target_var = 'CLV_'+clv_freq\n",
    "all_features = [x for x in sample_set_df.columns if x not in ['CustomerID', target_var]]"
   ]
  },
  {
   "cell_type": "code",
   "execution_count": 66,
   "metadata": {},
   "outputs": [],
   "source": [
    "x_train, x_test, y_train, y_test = train_test_split(\n",
    "    sample_set_df[all_features], \n",
    "    sample_set_df[target_var], \n",
    "    test_size=0.3\n",
    ")"
   ]
  },
  {
   "cell_type": "markdown",
   "metadata": {},
   "source": [
    "#### - Linear Regression Model"
   ]
  },
  {
   "cell_type": "code",
   "execution_count": 67,
   "metadata": {},
   "outputs": [],
   "source": [
    "from sklearn.linear_model import LinearRegression\n",
    "\n",
    "# Try these models as well\n",
    "from sklearn.svm import SVR\n",
    "from sklearn.ensemble import RandomForestRegressor"
   ]
  },
  {
   "cell_type": "code",
   "execution_count": 68,
   "metadata": {},
   "outputs": [],
   "source": [
    "reg_fit = LinearRegression()"
   ]
  },
  {
   "cell_type": "code",
   "execution_count": 69,
   "metadata": {},
   "outputs": [
    {
     "data": {
      "text/plain": [
       "LinearRegression(copy_X=True, fit_intercept=True, n_jobs=None, normalize=False)"
      ]
     },
     "execution_count": 69,
     "metadata": {},
     "output_type": "execute_result"
    }
   ],
   "source": [
    "reg_fit.fit(x_train, y_train)"
   ]
  },
  {
   "cell_type": "code",
   "execution_count": 70,
   "metadata": {},
   "outputs": [
    {
     "data": {
      "text/plain": [
       "-34.62152692982693"
      ]
     },
     "execution_count": 70,
     "metadata": {},
     "output_type": "execute_result"
    }
   ],
   "source": [
    "reg_fit.intercept_"
   ]
  },
  {
   "cell_type": "code",
   "execution_count": 71,
   "metadata": {},
   "outputs": [
    {
     "data": {
      "text/html": [
       "<div>\n",
       "<style scoped>\n",
       "    .dataframe tbody tr th:only-of-type {\n",
       "        vertical-align: middle;\n",
       "    }\n",
       "\n",
       "    .dataframe tbody tr th {\n",
       "        vertical-align: top;\n",
       "    }\n",
       "\n",
       "    .dataframe thead th {\n",
       "        text-align: right;\n",
       "    }\n",
       "</style>\n",
       "<table border=\"1\" class=\"dataframe\">\n",
       "  <thead>\n",
       "    <tr style=\"text-align: right;\">\n",
       "      <th></th>\n",
       "      <th>feature</th>\n",
       "      <th>coef</th>\n",
       "    </tr>\n",
       "  </thead>\n",
       "  <tbody>\n",
       "    <tr>\n",
       "      <th>0</th>\n",
       "      <td>sales_avg_M_2</td>\n",
       "      <td>0.206350</td>\n",
       "    </tr>\n",
       "    <tr>\n",
       "      <th>1</th>\n",
       "      <td>sales_avg_M_3</td>\n",
       "      <td>-0.192714</td>\n",
       "    </tr>\n",
       "    <tr>\n",
       "      <th>2</th>\n",
       "      <td>sales_avg_M_4</td>\n",
       "      <td>0.191308</td>\n",
       "    </tr>\n",
       "    <tr>\n",
       "      <th>3</th>\n",
       "      <td>sales_avg_M_5</td>\n",
       "      <td>-0.630488</td>\n",
       "    </tr>\n",
       "    <tr>\n",
       "      <th>4</th>\n",
       "      <td>sales_count_M_2</td>\n",
       "      <td>91.181741</td>\n",
       "    </tr>\n",
       "    <tr>\n",
       "      <th>5</th>\n",
       "      <td>sales_count_M_3</td>\n",
       "      <td>22.991929</td>\n",
       "    </tr>\n",
       "    <tr>\n",
       "      <th>6</th>\n",
       "      <td>sales_count_M_4</td>\n",
       "      <td>27.861863</td>\n",
       "    </tr>\n",
       "    <tr>\n",
       "      <th>7</th>\n",
       "      <td>sales_count_M_5</td>\n",
       "      <td>-99.369112</td>\n",
       "    </tr>\n",
       "    <tr>\n",
       "      <th>8</th>\n",
       "      <td>sales_sum_M_2</td>\n",
       "      <td>0.333217</td>\n",
       "    </tr>\n",
       "    <tr>\n",
       "      <th>9</th>\n",
       "      <td>sales_sum_M_3</td>\n",
       "      <td>0.260547</td>\n",
       "    </tr>\n",
       "    <tr>\n",
       "      <th>10</th>\n",
       "      <td>sales_sum_M_4</td>\n",
       "      <td>-0.158075</td>\n",
       "    </tr>\n",
       "    <tr>\n",
       "      <th>11</th>\n",
       "      <td>sales_sum_M_5</td>\n",
       "      <td>0.947939</td>\n",
       "    </tr>\n",
       "  </tbody>\n",
       "</table>\n",
       "</div>"
      ],
      "text/plain": [
       "            feature       coef\n",
       "0     sales_avg_M_2   0.206350\n",
       "1     sales_avg_M_3  -0.192714\n",
       "2     sales_avg_M_4   0.191308\n",
       "3     sales_avg_M_5  -0.630488\n",
       "4   sales_count_M_2  91.181741\n",
       "5   sales_count_M_3  22.991929\n",
       "6   sales_count_M_4  27.861863\n",
       "7   sales_count_M_5 -99.369112\n",
       "8     sales_sum_M_2   0.333217\n",
       "9     sales_sum_M_3   0.260547\n",
       "10    sales_sum_M_4  -0.158075\n",
       "11    sales_sum_M_5   0.947939"
      ]
     },
     "execution_count": 71,
     "metadata": {},
     "output_type": "execute_result"
    }
   ],
   "source": [
    "coef = pd.DataFrame(list(zip(all_features, reg_fit.coef_)))\n",
    "coef.columns = ['feature', 'coef']\n",
    "\n",
    "coef"
   ]
  },
  {
   "cell_type": "markdown",
   "metadata": {},
   "source": [
    "## 4.3. Evaluation"
   ]
  },
  {
   "cell_type": "code",
   "execution_count": 72,
   "metadata": {},
   "outputs": [],
   "source": [
    "from sklearn.metrics import r2_score, median_absolute_error"
   ]
  },
  {
   "cell_type": "code",
   "execution_count": 73,
   "metadata": {},
   "outputs": [],
   "source": [
    "train_preds =  reg_fit.predict(x_train)\n",
    "test_preds = reg_fit.predict(x_test)"
   ]
  },
  {
   "cell_type": "markdown",
   "metadata": {},
   "source": [
    "#### - R-Squared"
   ]
  },
  {
   "cell_type": "code",
   "execution_count": 74,
   "metadata": {},
   "outputs": [
    {
     "name": "stdout",
     "output_type": "stream",
     "text": [
      "In-Sample R-Squared: 0.6973\n",
      "Out-of-Sample R-Squared: 0.6902\n"
     ]
    }
   ],
   "source": [
    "print('In-Sample R-Squared: %0.4f' % r2_score(y_true=y_train, y_pred=train_preds))\n",
    "print('Out-of-Sample R-Squared: %0.4f' % r2_score(y_true=y_test, y_pred=test_preds))"
   ]
  },
  {
   "cell_type": "markdown",
   "metadata": {},
   "source": [
    "#### - Median Absolute Error"
   ]
  },
  {
   "cell_type": "code",
   "execution_count": 75,
   "metadata": {},
   "outputs": [
    {
     "name": "stdout",
     "output_type": "stream",
     "text": [
      "In-Sample MSE: 188.6461\n",
      "Out-of-Sample MSE: 186.6443\n"
     ]
    }
   ],
   "source": [
    "print('In-Sample MSE: %0.4f' % median_absolute_error(y_true=y_train, y_pred=train_preds))\n",
    "print('Out-of-Sample MSE: %0.4f' % median_absolute_error(y_true=y_test, y_pred=test_preds))"
   ]
  },
  {
   "cell_type": "markdown",
   "metadata": {},
   "source": [
    "#### - Scatter Plot"
   ]
  },
  {
   "cell_type": "code",
   "execution_count": 76,
   "metadata": {
    "scrolled": true
   },
   "outputs": [
    {
     "data": {
      "image/png": "[encoded data removed]",
      "text/plain": [
       "<Figure size 432x288 with 1 Axes>"
      ]
     },
     "metadata": {
      "needs_background": "light"
     },
     "output_type": "display_data"
    }
   ],
   "source": [
    "plt.scatter(y_train, train_preds)\n",
    "plt.plot([0, max(y_train)], [0, max(train_preds)], color='gray', lw=1, linestyle='--')\n",
    "\n",
    "plt.xlabel('actual')\n",
    "plt.ylabel('predicted')\n",
    "plt.title('In-Sample Actual vs. Predicted')\n",
    "plt.grid()\n",
    "\n",
    "plt.show()"
   ]
  },
  {
   "cell_type": "code",
   "execution_count": 77,
   "metadata": {},
   "outputs": [
    {
     "data": {
      "image/png": "[encoded data removed]",
      "text/plain": [
       "<Figure size 432x288 with 1 Axes>"
      ]
     },
     "metadata": {
      "needs_background": "light"
     },
     "output_type": "display_data"
    }
   ],
   "source": [
    "plt.scatter(y_test, test_preds)\n",
    "plt.plot([0, max(y_test)], [0, max(test_preds)], color='gray', lw=1, linestyle='--')\n",
    "\n",
    "plt.xlabel('actual')\n",
    "plt.ylabel('predicted')\n",
    "plt.title('Out-of-Sample Actual vs. Predicted')\n",
    "plt.grid()\n",
    "\n",
    "plt.show()"
   ]
  },
  {
   "cell_type": "code",
   "execution_count": null,
   "metadata": {},
   "outputs": [],
   "source": []
  },
  {
   "cell_type": "code",
   "execution_count": null,
   "metadata": {},
   "outputs": [],
   "source": []
  }
 ],
 "metadata": {
  "kernelspec": {
   "display_name": "Python 3",
   "language": "python",
   "name": "python3"
  },
  "language_info": {
   "codemirror_mode": {
    "name": "ipython",
    "version": 3
   },
   "file_extension": ".py",
   "mimetype": "text/x-python",
   "name": "python",
   "nbconvert_exporter": "python",
   "pygments_lexer": "ipython3",
   "version": "3.7.5"
  }
 },
 "nbformat": 4,
 "nbformat_minor": 2
}
